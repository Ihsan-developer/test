{
  "cells": [
    {
      "cell_type": "markdown",
      "metadata": {
        "id": "Tce3stUlHN0L"
      },
      "source": [
        "##### Copyright 2024 Google LLC."
      ]
    },
    {
      "cell_type": "code",
      "execution_count": 97,
      "metadata": {
        "cellView": "form",
        "id": "tuOe1ymfHZPu"
      },
      "outputs": [],
      "source": [
        "#@title Licensed under the Apache License, Version 2.0 (the \"License\");\n",
        "# you may not use this file except in compliance with the License.\n",
        "# You may obtain a copy of the License at\n",
        "#\n",
        "# https://www.apache.org/licenses/LICENSE-2.0\n",
        "#\n",
        "# Unless required by applicable law or agreed to in writing, software\n",
        "# distributed under the License is distributed on an \"AS IS\" BASIS,\n",
        "# WITHOUT WARRANTIES OR CONDITIONS OF ANY KIND, either express or implied.\n",
        "# See the License for the specific language governing permissions and\n",
        "# limitations under the License."
      ]
    },
    {
      "cell_type": "markdown",
      "metadata": {
        "id": "yeadDkMiISin"
      },
      "source": [
        "# Gemini API: Model tuning with Python"
      ]
    },
    {
      "cell_type": "markdown",
      "metadata": {
        "id": "lEXQ3OwKIa-O"
      },
      "source": [
        "<table class=\"tfo-notebook-buttons\" align=\"left\">\n",
        "  <td>\n",
        "    <a target=\"_blank\" href=\"https://ai.google.dev/gemini-api/docs/model-tuning/python\"><img src=\"https://ai.google.dev/static/site-assets/images/docs/notebook-site-button.png\" height=\"32\" width=\"32\" />View on ai.google.dev</a>\n",
        "  </td>\n",
        "    <td>\n",
        "    <a target=\"_blank\" href=\"https://colab.research.google.com/github/google/generative-ai-docs/blob/main/site/en/gemini-api/docs/model-tuning/python.ipynb\"><img src=\"https://www.tensorflow.org/images/colab_logo_32px.png\" />Run in Google Colab</a>\n",
        "  </td>\n",
        "  <td>\n",
        "    <a target=\"_blank\" href=\"https://github.com/google/generative-ai-docs/blob/main/site/en/gemini-api/docs/model-tuning/python.ipynb\"><img src=\"https://www.tensorflow.org/images/GitHub-Mark-32px.png\" />View source on GitHub</a>\n",
        "  </td>\n",
        "</table>"
      ]
    },
    {
      "cell_type": "markdown",
      "metadata": {
        "id": "Jp_CKyzxUqx6"
      },
      "source": [
        "In this notebook, you'll learn how to get started with the tuning service using the Python client library for the Gemini API. Here, you'll learn how to tune the text model behind the Gemini API's text generation service."
      ]
    },
    {
      "cell_type": "markdown",
      "metadata": {
        "id": "sOz_wyZAlCuQ"
      },
      "source": [
        "## Setup"
      ]
    },
    {
      "cell_type": "markdown",
      "metadata": {
        "id": "aHimx8NGMWDj"
      },
      "source": [
        "### Install the client library"
      ]
    },
    {
      "cell_type": "code",
      "execution_count": 98,
      "metadata": {
        "id": "cbcf72bcb56d"
      },
      "outputs": [],
      "source": [
        "!pip install -q google-generativeai"
      ]
    },
    {
      "cell_type": "markdown",
      "metadata": {
        "id": "jdIYSl2kN0cq"
      },
      "source": [
        "### Import libraries"
      ]
    },
    {
      "cell_type": "code",
      "execution_count": 99,
      "metadata": {
        "id": "8enrppafJPCX"
      },
      "outputs": [],
      "source": [
        "import google.generativeai as genai"
      ]
    },
    {
      "cell_type": "code",
      "execution_count": 100,
      "metadata": {
        "id": "lhqVUjH7ZKUi"
      },
      "outputs": [],
      "source": [
        "from google.colab import userdata\n",
        "genai.configure(api_key=userdata.get('GOOGLE_API_KEY'))"
      ]
    },
    {
      "cell_type": "code",
      "source": [
        "import google.generativeai as genai\n",
        "\n",
        "# List all available models\n",
        "models = genai.list_models()\n",
        "\n",
        "# Print model names and their supported methods\n",
        "for model in models:\n",
        "    print(f\"Model: {model.name}\")\n",
        "    print(f\"Supported Methods: {model.supported_generation_methods}\\n\")\n"
      ],
      "metadata": {
        "colab": {
          "base_uri": "https://localhost:8080/",
          "height": 1000
        },
        "id": "rNn9JDQ7UhkD",
        "outputId": "2a840238-4d86-46ed-b8c7-13bb77ed554e"
      },
      "execution_count": 101,
      "outputs": [
        {
          "output_type": "stream",
          "name": "stdout",
          "text": [
            "Model: models/chat-bison-001\n",
            "Supported Methods: ['generateMessage', 'countMessageTokens']\n",
            "\n",
            "Model: models/text-bison-001\n",
            "Supported Methods: ['generateText', 'countTextTokens', 'createTunedTextModel']\n",
            "\n",
            "Model: models/embedding-gecko-001\n",
            "Supported Methods: ['embedText', 'countTextTokens']\n",
            "\n",
            "Model: models/gemini-1.0-pro-vision-latest\n",
            "Supported Methods: ['generateContent', 'countTokens']\n",
            "\n",
            "Model: models/gemini-pro-vision\n",
            "Supported Methods: ['generateContent', 'countTokens']\n",
            "\n",
            "Model: models/gemini-1.5-pro-latest\n",
            "Supported Methods: ['generateContent', 'countTokens']\n",
            "\n",
            "Model: models/gemini-1.5-pro-001\n",
            "Supported Methods: ['generateContent', 'countTokens', 'createCachedContent']\n",
            "\n",
            "Model: models/gemini-1.5-pro-002\n",
            "Supported Methods: ['generateContent', 'countTokens', 'createCachedContent']\n",
            "\n",
            "Model: models/gemini-1.5-pro\n",
            "Supported Methods: ['generateContent', 'countTokens']\n",
            "\n",
            "Model: models/gemini-1.5-flash-latest\n",
            "Supported Methods: ['generateContent', 'countTokens']\n",
            "\n",
            "Model: models/gemini-1.5-flash-001\n",
            "Supported Methods: ['generateContent', 'countTokens', 'createCachedContent']\n",
            "\n",
            "Model: models/gemini-1.5-flash-001-tuning\n",
            "Supported Methods: ['generateContent', 'countTokens', 'createTunedModel']\n",
            "\n",
            "Model: models/gemini-1.5-flash\n",
            "Supported Methods: ['generateContent', 'countTokens']\n",
            "\n",
            "Model: models/gemini-1.5-flash-002\n",
            "Supported Methods: ['generateContent', 'countTokens', 'createCachedContent']\n",
            "\n",
            "Model: models/gemini-1.5-flash-8b\n",
            "Supported Methods: ['createCachedContent', 'generateContent', 'countTokens']\n",
            "\n",
            "Model: models/gemini-1.5-flash-8b-001\n",
            "Supported Methods: ['createCachedContent', 'generateContent', 'countTokens']\n",
            "\n",
            "Model: models/gemini-1.5-flash-8b-latest\n",
            "Supported Methods: ['createCachedContent', 'generateContent', 'countTokens']\n",
            "\n",
            "Model: models/gemini-1.5-flash-8b-exp-0827\n",
            "Supported Methods: ['generateContent', 'countTokens']\n",
            "\n",
            "Model: models/gemini-1.5-flash-8b-exp-0924\n",
            "Supported Methods: ['generateContent', 'countTokens']\n",
            "\n",
            "Model: models/gemini-2.0-flash-exp\n",
            "Supported Methods: ['generateContent', 'countTokens', 'bidiGenerateContent']\n",
            "\n",
            "Model: models/gemini-2.0-flash\n",
            "Supported Methods: ['generateContent', 'countTokens']\n",
            "\n",
            "Model: models/gemini-2.0-flash-001\n",
            "Supported Methods: ['generateContent', 'countTokens']\n",
            "\n",
            "Model: models/gemini-2.0-flash-lite-001\n",
            "Supported Methods: ['generateContent', 'countTokens']\n",
            "\n",
            "Model: models/gemini-2.0-flash-lite\n",
            "Supported Methods: ['generateContent', 'countTokens']\n",
            "\n",
            "Model: models/gemini-2.0-flash-lite-preview-02-05\n",
            "Supported Methods: ['generateContent', 'countTokens']\n",
            "\n",
            "Model: models/gemini-2.0-flash-lite-preview\n",
            "Supported Methods: ['generateContent', 'countTokens']\n",
            "\n",
            "Model: models/gemini-2.0-pro-exp\n",
            "Supported Methods: ['generateContent', 'countTokens']\n",
            "\n",
            "Model: models/gemini-2.0-pro-exp-02-05\n",
            "Supported Methods: ['generateContent', 'countTokens']\n",
            "\n",
            "Model: models/gemini-exp-1206\n",
            "Supported Methods: ['generateContent', 'countTokens']\n",
            "\n",
            "Model: models/gemini-2.0-flash-thinking-exp-01-21\n",
            "Supported Methods: ['generateContent', 'countTokens']\n",
            "\n",
            "Model: models/gemini-2.0-flash-thinking-exp\n",
            "Supported Methods: ['generateContent', 'countTokens']\n",
            "\n",
            "Model: models/gemini-2.0-flash-thinking-exp-1219\n",
            "Supported Methods: ['generateContent', 'countTokens']\n",
            "\n",
            "Model: models/learnlm-1.5-pro-experimental\n",
            "Supported Methods: ['generateContent', 'countTokens']\n",
            "\n",
            "Model: models/embedding-001\n",
            "Supported Methods: ['embedContent']\n",
            "\n",
            "Model: models/text-embedding-004\n",
            "Supported Methods: ['embedContent']\n",
            "\n",
            "Model: models/aqa\n",
            "Supported Methods: ['generateAnswer']\n",
            "\n",
            "Model: models/imagen-3.0-generate-002\n",
            "Supported Methods: ['predict']\n",
            "\n"
          ]
        }
      ]
    },
    {
      "cell_type": "code",
      "source": [
        "import google.generativeai as genai\n",
        "\n",
        "# List all available models\n",
        "models = genai.list_models()\n",
        "\n",
        "# Filter models that support fine-tuning\n",
        "fine_tunable_models = [\n",
        "    m for m in models if \"createTunedModel\" in m.supported_generation_methods\n",
        "]\n",
        "\n",
        "# Check if any fine-tunable models exist\n",
        "if fine_tunable_models:\n",
        "    print(\"Fine-Tunable Models:\")\n",
        "    for model in fine_tunable_models:\n",
        "        print(f\"{model.name} - {model.display_name}\")\n",
        "else:\n",
        "    print(\"No fine-tunable models available.\")\n"
      ],
      "metadata": {
        "colab": {
          "base_uri": "https://localhost:8080/",
          "height": 54
        },
        "id": "U_4uCbg0WZlP",
        "outputId": "f93435a2-51c9-4440-f119-bc8d7692f4ae"
      },
      "execution_count": 102,
      "outputs": [
        {
          "output_type": "stream",
          "name": "stdout",
          "text": [
            "Fine-Tunable Models:\n",
            "models/gemini-1.5-flash-001-tuning - Gemini 1.5 Flash 001 Tuning\n"
          ]
        }
      ]
    },
    {
      "cell_type": "markdown",
      "metadata": {
        "id": "P-MYZECwlRCq"
      },
      "source": [
        "\n",
        "\n",
        "```\n",
        "# This is formatted as code\n",
        "```\n",
        "\n",
        "You can check your existing tuned models with the `genai.list_tuned_model` method."
      ]
    },
    {
      "cell_type": "code",
      "execution_count": 103,
      "metadata": {
        "id": "XyWzoYFxU4r6",
        "colab": {
          "base_uri": "https://localhost:8080/",
          "height": 128
        },
        "outputId": "054e1bda-6afc-4799-b47b-a8a9db0c4b3d"
      },
      "outputs": [
        {
          "output_type": "stream",
          "name": "stdout",
          "text": [
            "tunedModels/generate-num-9885\n",
            "tunedModels/generate-num-1690\n",
            "tunedModels/generate-num-16\n",
            "tunedModels/generate-num-2826\n",
            "tunedModels/generate-num-8724\n",
            "tunedModels/generate-num-2830\n"
          ]
        }
      ],
      "source": [
        "for i, m in zip(range(10), genai.list_tuned_models()):\n",
        "  print(m.name)"
      ]
    },
    {
      "cell_type": "markdown",
      "metadata": {
        "id": "BhkXRzciv3Dp"
      },
      "source": [
        "## Create tuned model"
      ]
    },
    {
      "cell_type": "markdown",
      "metadata": {
        "id": "OO8VZYAinLWc"
      },
      "source": [
        "To create a tuned model, you need to pass your dataset to the model in the `genai.create_tuned_model` method. You can do this be directly defining the input and output values in the call or importing from a file into a dataframe to pass to the method.\n",
        "\n",
        "For this example, you will tune a model to generate the next number in the sequence. For example, if the input is `1`, the model should output `2`. If the input is `one hundred`, the output should be `one hundred one`."
      ]
    },
    {
      "cell_type": "code",
      "execution_count": 104,
      "metadata": {
        "id": "w-EBSe9wTbLB",
        "colab": {
          "base_uri": "https://localhost:8080/",
          "height": 257
        },
        "outputId": "bf71554a-d6ec-4972-b9cc-311a07c4d937"
      },
      "outputs": [
        {
          "output_type": "execute_result",
          "data": {
            "text/plain": [
              "Model(name='models/gemini-1.5-flash-001-tuning',\n",
              "      base_model_id='',\n",
              "      version='001',\n",
              "      display_name='Gemini 1.5 Flash 001 Tuning',\n",
              "      description=('Version of Gemini 1.5 Flash that supports tuning, our fast and versatile '\n",
              "                   'multimodal model for scaling across diverse tasks, released in May of 2024.'),\n",
              "      input_token_limit=16384,\n",
              "      output_token_limit=8192,\n",
              "      supported_generation_methods=['generateContent', 'countTokens', 'createTunedModel'],\n",
              "      temperature=1.0,\n",
              "      max_temperature=2.0,\n",
              "      top_p=0.95,\n",
              "      top_k=64)"
            ]
          },
          "metadata": {},
          "execution_count": 104
        }
      ],
      "source": [
        "base_model = [\n",
        "    m for m in genai.list_models()\n",
        "    if \"createTunedModel\" in m.supported_generation_methods and\n",
        "    \"flash\" in m.name][0]\n",
        "base_model"
      ]
    },
    {
      "cell_type": "code",
      "execution_count": 105,
      "metadata": {
        "id": "baHjHh1oTTTC"
      },
      "outputs": [],
      "source": [
        "import random\n",
        "\n",
        "name = f'generate-num-{random.randint(0,10000)}'\n",
        "operation = genai.create_tuned_model(\n",
        "    # You can use a tuned model here too. Set `source_model=\"tunedModels/...\"`\n",
        "    source_model=base_model.name,\n",
        "    training_data=[\n",
        "        {\n",
        "             'text_input': '1',\n",
        "             'output': '2',\n",
        "        },{\n",
        "             'text_input': '3',\n",
        "             'output': '4',\n",
        "        },{\n",
        "             'text_input': '-3',\n",
        "             'output': '-2',\n",
        "        },{\n",
        "             'text_input': 'twenty two',\n",
        "             'output': 'twenty three',\n",
        "        },{\n",
        "             'text_input': 'two hundred',\n",
        "             'output': 'two hundred one',\n",
        "        },{\n",
        "             'text_input': 'ninety nine',\n",
        "             'output': 'one hundred',\n",
        "        },{\n",
        "             'text_input': '8',\n",
        "             'output': '9',\n",
        "        },{\n",
        "             'text_input': '-98',\n",
        "             'output': '-97',\n",
        "        },{\n",
        "             'text_input': '1,000',\n",
        "             'output': '1,001',\n",
        "        },{\n",
        "             'text_input': '10,100,000',\n",
        "             'output': '10,100,001',\n",
        "        },{\n",
        "             'text_input': 'thirteen',\n",
        "             'output': 'fourteen',\n",
        "        },{\n",
        "             'text_input': 'eighty',\n",
        "             'output': 'eighty one',\n",
        "        },{\n",
        "             'text_input': 'one',\n",
        "             'output': 'two',\n",
        "        },{\n",
        "             'text_input': 'three',\n",
        "             'output': 'four',\n",
        "        },{\n",
        "             'text_input': 'seven',\n",
        "             'output': 'eight',\n",
        "        }\n",
        "    ],\n",
        "    id = name,\n",
        "    epoch_count = 100,\n",
        "    batch_size=4,\n",
        "    learning_rate=0.001,\n",
        ")"
      ]
    },
    {
      "cell_type": "markdown",
      "metadata": {
        "id": "-As7ayWDK1w8"
      },
      "source": [
        "Your tuned model is immediately added to the list of tuned models, but its status is set to \"creating\" while the model is tuned."
      ]
    },
    {
      "cell_type": "code",
      "execution_count": 106,
      "metadata": {
        "id": "su64KgY4Uztj",
        "colab": {
          "base_uri": "https://localhost:8080/",
          "height": 349
        },
        "outputId": "794dabad-9e7a-4077-c488-f71e3eb4a146"
      },
      "outputs": [
        {
          "output_type": "execute_result",
          "data": {
            "text/plain": [
              "TunedModel(name='tunedModels/generate-num-2788',\n",
              "           source_model='models/gemini-1.5-flash-001-tuning',\n",
              "           base_model='models/gemini-1.5-flash-001-tuning',\n",
              "           display_name='',\n",
              "           description='',\n",
              "           temperature=1.0,\n",
              "           top_p=0.95,\n",
              "           top_k=64,\n",
              "           state=<State.CREATING: 1>,\n",
              "           create_time=datetime.datetime(2025, 3, 3, 1, 43, 37, 879092, tzinfo=datetime.timezone.utc),\n",
              "           update_time=datetime.datetime(2025, 3, 3, 1, 43, 37, 879092, tzinfo=datetime.timezone.utc),\n",
              "           tuning_task=TuningTask(start_time=None,\n",
              "                                  complete_time=None,\n",
              "                                  snapshots=[],\n",
              "                                  hyperparameters=Hyperparameters(epoch_count=100,\n",
              "                                                                  batch_size=4,\n",
              "                                                                  learning_rate=0.001)),\n",
              "           reader_project_numbers=None)"
            ]
          },
          "metadata": {},
          "execution_count": 106
        }
      ],
      "source": [
        "model = genai.get_tuned_model(f'tunedModels/{name}')\n",
        "\n",
        "model"
      ]
    },
    {
      "cell_type": "code",
      "execution_count": 107,
      "metadata": {
        "id": "EUodUwZkKPi-",
        "colab": {
          "base_uri": "https://localhost:8080/"
        },
        "outputId": "07e0a870-18f9-4132-d86a-f32f528ef2ea"
      },
      "outputs": [
        {
          "output_type": "execute_result",
          "data": {
            "text/plain": [
              "<State.CREATING: 1>"
            ]
          },
          "metadata": {},
          "execution_count": 107
        }
      ],
      "source": [
        "model.state"
      ]
    },
    {
      "cell_type": "markdown",
      "metadata": {
        "id": "Pi8X5vkQv-3_"
      },
      "source": [
        "### Check tuning progress"
      ]
    },
    {
      "cell_type": "markdown",
      "metadata": {
        "id": "tWI-vAh4LJIz"
      },
      "source": [
        "Use `metadata` to check the state:"
      ]
    },
    {
      "cell_type": "code",
      "execution_count": 108,
      "metadata": {
        "id": "g08vqtxYLMxT",
        "colab": {
          "base_uri": "https://localhost:8080/"
        },
        "outputId": "f07d7cfe-5684-4e6e-ba9f-3ef4585a5738"
      },
      "outputs": [
        {
          "output_type": "execute_result",
          "data": {
            "text/plain": [
              "tuned_model: \"tunedModels/generate-num-2788\"\n",
              "total_steps: 375"
            ]
          },
          "metadata": {},
          "execution_count": 108
        }
      ],
      "source": [
        "operation.metadata"
      ]
    },
    {
      "cell_type": "markdown",
      "metadata": {
        "id": "3lQ6gSMgK-kz"
      },
      "source": [
        "Wait for the training to finish using `operation.result()`, or `operation.wait_bar()`"
      ]
    },
    {
      "cell_type": "code",
      "execution_count": 109,
      "metadata": {
        "id": "SOUowIv1HgSE",
        "colab": {
          "base_uri": "https://localhost:8080/",
          "height": 49,
          "referenced_widgets": [
            "27dc6b5968b44edcbb355a21f0f6518c",
            "75dbcbb897004705b7b0eaf0db915535",
            "d40ecc036a1b4825b235f330242871c6",
            "93f1d182185f4d1cac5fb0eaebf20f83",
            "57fc0cc030944f67a1f2faed0bcae08b",
            "2f1c6f5cb7a34a30888e1e249ab18f5f",
            "988ac720bbf84a2f8716e27a6fe44aca",
            "9d9d2e8445e84b1f8633117078986e17",
            "7b6b18a519a648a4bf77999250a2f6ed",
            "2a1b5d6f48d748cdb03c3809f34039f2",
            "6b68c58d944a49aa936bca80e35452b0"
          ]
        },
        "outputId": "ab60d308-b0a0-4ccd-bc3a-ca6d98c00891"
      },
      "outputs": [
        {
          "output_type": "display_data",
          "data": {
            "text/plain": [
              "  0%|          | 0/375 [00:00<?, ?it/s]"
            ],
            "application/vnd.jupyter.widget-view+json": {
              "version_major": 2,
              "version_minor": 0,
              "model_id": "27dc6b5968b44edcbb355a21f0f6518c"
            }
          },
          "metadata": {}
        }
      ],
      "source": [
        "import time\n",
        "\n",
        "for status in operation.wait_bar():\n",
        "  time.sleep(30)"
      ]
    },
    {
      "cell_type": "markdown",
      "metadata": {
        "id": "4cg868HzqOx5"
      },
      "source": [
        "You can cancel your tuning job any time using the `cancel()` method. Uncomment the line below and run the code cell to cancel your job before it finishes."
      ]
    },
    {
      "cell_type": "code",
      "execution_count": 110,
      "metadata": {
        "id": "oQuJ70_hqJi9"
      },
      "outputs": [],
      "source": [
        "# operation.cancel()"
      ]
    },
    {
      "cell_type": "markdown",
      "metadata": {
        "id": "lqiL0TWDqAPn"
      },
      "source": [
        "Once the tuning is complete, you can view the loss curve from the tuning results. The [loss curve](https://ai.google.dev/gemini-api/docs/model-tuning#recommended_configurations) shows how much the model's predictions deviate from the ideal outputs."
      ]
    },
    {
      "cell_type": "code",
      "execution_count": 111,
      "metadata": {
        "id": "bIiG57xWLhP7",
        "colab": {
          "base_uri": "https://localhost:8080/",
          "height": 467
        },
        "outputId": "73ccad5d-4a04-4552-b71b-a646a688b444"
      },
      "outputs": [
        {
          "output_type": "execute_result",
          "data": {
            "text/plain": [
              "<Axes: xlabel='epoch', ylabel='mean_loss'>"
            ]
          },
          "metadata": {},
          "execution_count": 111
        },
        {
          "output_type": "display_data",
          "data": {
            "text/plain": [
              "<Figure size 640x480 with 1 Axes>"
            ],
            "image/png": "[encoded data removed]"
          },
          "metadata": {}
        }
      ],
      "source": [
        "import pandas as pd\n",
        "import seaborn as sns\n",
        "\n",
        "model = operation.result()\n",
        "\n",
        "snapshots = pd.DataFrame(model.tuning_task.snapshots)\n",
        "\n",
        "sns.lineplot(data=snapshots, x = 'epoch', y='mean_loss')\n"
      ]
    },
    {
      "cell_type": "markdown",
      "metadata": {
        "id": "rkoQTXb1vSBC"
      },
      "source": [
        "## Evaluate your model\n",
        "\n",
        "You can use the `genai.generate_content` method and specify the name of your model to test your model performance."
      ]
    },
    {
      "cell_type": "code",
      "execution_count": 112,
      "metadata": {
        "id": "zO0YcuSyxydZ"
      },
      "outputs": [],
      "source": [
        "model = genai.GenerativeModel(model_name=f'tunedModels/{name}')"
      ]
    },
    {
      "cell_type": "code",
      "execution_count": 113,
      "metadata": {
        "id": "UwGrrj6hS_x2",
        "colab": {
          "base_uri": "https://localhost:8080/",
          "height": 36
        },
        "outputId": "7dc903c7-eaa1-49ac-f420-28bb483d9bed"
      },
      "outputs": [
        {
          "output_type": "execute_result",
          "data": {
            "text/plain": [
              "'56'"
            ],
            "application/vnd.google.colaboratory.intrinsic+json": {
              "type": "string"
            }
          },
          "metadata": {},
          "execution_count": 113
        }
      ],
      "source": [
        "result = model.generate_content('55')\n",
        "result.text"
      ]
    },
    {
      "cell_type": "code",
      "execution_count": 114,
      "metadata": {
        "id": "YSNB2zjTx5SZ",
        "colab": {
          "base_uri": "https://localhost:8080/",
          "height": 36
        },
        "outputId": "c6decff7-d475-4c2c-c927-3142c58154ba"
      },
      "outputs": [
        {
          "output_type": "execute_result",
          "data": {
            "text/plain": [
              "'123456'"
            ],
            "application/vnd.google.colaboratory.intrinsic+json": {
              "type": "string"
            }
          },
          "metadata": {},
          "execution_count": 114
        }
      ],
      "source": [
        "result = model.generate_content('123455')\n",
        "result.text"
      ]
    },
    {
      "cell_type": "code",
      "execution_count": 115,
      "metadata": {
        "id": "Y2YVO-m0Ut9H",
        "colab": {
          "base_uri": "https://localhost:8080/",
          "height": 36
        },
        "outputId": "eb0c518f-864a-4576-ee48-cf1d2ca5347e"
      },
      "outputs": [
        {
          "output_type": "execute_result",
          "data": {
            "text/plain": [
              "'five'"
            ],
            "application/vnd.google.colaboratory.intrinsic+json": {
              "type": "string"
            }
          },
          "metadata": {},
          "execution_count": 115
        }
      ],
      "source": [
        "result = model.generate_content('four')\n",
        "result.text"
      ]
    },
    {
      "cell_type": "code",
      "execution_count": 116,
      "metadata": {
        "id": "h2MkTR0uTb6U",
        "colab": {
          "base_uri": "https://localhost:8080/",
          "height": 36
        },
        "outputId": "b335c6fe-d9b8-4ecf-910a-5a532eb17f27"
      },
      "outputs": [
        {
          "output_type": "execute_result",
          "data": {
            "text/plain": [
              "'cinq'"
            ],
            "application/vnd.google.colaboratory.intrinsic+json": {
              "type": "string"
            }
          },
          "metadata": {},
          "execution_count": 116
        }
      ],
      "source": [
        "result = model.generate_content('quatre') # French 4\n",
        "result.text                               # French 5 is \"cinq\""
      ]
    },
    {
      "cell_type": "code",
      "execution_count": 117,
      "metadata": {
        "id": "OruCW1zETsZw",
        "colab": {
          "base_uri": "https://localhost:8080/",
          "height": 36
        },
        "outputId": "d7e97050-613d-4400-ef1b-ecb8337f2ae4"
      },
      "outputs": [
        {
          "output_type": "execute_result",
          "data": {
            "text/plain": [
              "'IV'"
            ],
            "application/vnd.google.colaboratory.intrinsic+json": {
              "type": "string"
            }
          },
          "metadata": {},
          "execution_count": 117
        }
      ],
      "source": [
        "result = model.generate_content('III')    # Roman numeral 3\n",
        "result.text                               # Roman numeral 4 is IV"
      ]
    },
    {
      "cell_type": "code",
      "execution_count": 118,
      "metadata": {
        "id": "thDdSuUDUJOx",
        "colab": {
          "base_uri": "https://localhost:8080/",
          "height": 36
        },
        "outputId": "dc6ebe39-a27f-4895-9386-10da4b9790fe"
      },
      "outputs": [
        {
          "output_type": "execute_result",
          "data": {
            "text/plain": [
              "'八'"
            ],
            "application/vnd.google.colaboratory.intrinsic+json": {
              "type": "string"
            }
          },
          "metadata": {},
          "execution_count": 118
        }
      ],
      "source": [
        "result = model.generate_content('七')  # Japanese 7\n",
        "result.text                            # Japanese 8 is 八!"
      ]
    },
    {
      "cell_type": "code",
      "source": [
        "result = model.generate_content('9')\n",
        "result.text"
      ],
      "metadata": {
        "colab": {
          "base_uri": "https://localhost:8080/",
          "height": 36
        },
        "id": "zJ954GJbTSxW",
        "outputId": "ab8c0357-c6c1-4bef-a598-e14898a7e90a"
      },
      "execution_count": 119,
      "outputs": [
        {
          "output_type": "execute_result",
          "data": {
            "text/plain": [
              "'10'"
            ],
            "application/vnd.google.colaboratory.intrinsic+json": {
              "type": "string"
            }
          },
          "metadata": {},
          "execution_count": 119
        }
      ]
    },
    {
      "cell_type": "code",
      "source": [
        "result = model.generate_content('Angka setelah 1232')\n",
        "result.text"
      ],
      "metadata": {
        "colab": {
          "base_uri": "https://localhost:8080/",
          "height": 36
        },
        "id": "LvLYWewVTV1P",
        "outputId": "a763dd9a-b2e2-4248-997d-33c6f4b5573b"
      },
      "execution_count": 120,
      "outputs": [
        {
          "output_type": "execute_result",
          "data": {
            "text/plain": [
              "'1233'"
            ],
            "application/vnd.google.colaboratory.intrinsic+json": {
              "type": "string"
            }
          },
          "metadata": {},
          "execution_count": 120
        }
      ]
    },
    {
      "cell_type": "markdown",
      "metadata": {
        "id": "HpIA1IFevQQR"
      },
      "source": [
        "It really seems to have picked up the task despite the limited examples, but \"next\" is a simple concept, see the [tuning guide](https://ai.google.dev/gemini-api/docs/model-tuning) for more guidance on improving performance."
      ]
    },
    {
      "cell_type": "markdown",
      "metadata": {
        "id": "nmuQCbTYwIOx"
      },
      "source": [
        "## Update the description\n",
        "\n",
        "You can update the description of your tuned model any time using the `genai.update_tuned_model` method."
      ]
    },
    {
      "cell_type": "code",
      "execution_count": 121,
      "metadata": {
        "id": "9gAVuXT_wG3x"
      },
      "outputs": [],
      "source": [
        "genai.update_tuned_model(f'tunedModels/{name}', {\"description\":\"This is my model.\"});"
      ]
    },
    {
      "cell_type": "code",
      "execution_count": 122,
      "metadata": {
        "id": "d-c3YerBxVYs",
        "colab": {
          "base_uri": "https://localhost:8080/",
          "height": 36
        },
        "outputId": "d9d77e8a-aa7f-408e-e38b-6c1035dfab43"
      },
      "outputs": [
        {
          "output_type": "execute_result",
          "data": {
            "text/plain": [
              "'This is my model.'"
            ],
            "application/vnd.google.colaboratory.intrinsic+json": {
              "type": "string"
            }
          },
          "metadata": {},
          "execution_count": 122
        }
      ],
      "source": [
        "model = genai.get_tuned_model(f'tunedModels/{name}')\n",
        "\n",
        "model.description"
      ]
    },
    {
      "cell_type": "markdown",
      "metadata": {
        "id": "i_TpwvBB4bQ7"
      },
      "source": [
        "## Delete the model\n",
        "\n",
        "You can clean up your tuned model list by deleting models you no longer need. Use the `genai.delete_tuned_model` method to delete a model. If you canceled any tuning jobs, you may want to delete those as their performance may be unpredictable."
      ]
    },
    {
      "cell_type": "code",
      "execution_count": 123,
      "metadata": {
        "id": "cepfaUCvVGCo"
      },
      "outputs": [],
      "source": [
        "#genai.delete_tuned_model(f'tunedModels/{name}')"
      ]
    },
    {
      "cell_type": "markdown",
      "metadata": {
        "id": "ljEssIshYDEr"
      },
      "source": [
        "The model no longer exists:"
      ]
    },
    {
      "cell_type": "code",
      "execution_count": 124,
      "metadata": {
        "id": "kN_bkut_4ayL"
      },
      "outputs": [],
      "source": [
        "\n",
        "#try:\n",
        " # m = genai.get_tuned_model(f'tunedModels/{name}')\n",
        "  #print(m)\n",
        "#except Exception as e:\n",
        " # print(f\"{type(e)}: {e}\")"
      ]
    },
    {
      "cell_type": "markdown",
      "source": [
        "### Fine Tuning Model Indonesia"
      ],
      "metadata": {
        "id": "-0ARjs-SiIjx"
      }
    },
    {
      "cell_type": "code",
      "source": [
        "import random\n",
        "\n",
        "nameIDTelemarketing = f'generate-num-{random.randint(0,10000)}'\n",
        "operationIDTelemarketing = genai.create_tuned_model(\n",
        "    # You can use a tuned model here too. Set `source_model=\"tunedModels/...\"`\n",
        "    source_model=base_model.name,\n",
        "    training_data=[\n",
        "        {\n",
        "             'text_input': 'Saya ingin membeli paket internet 10GB yang ada saat ini, berapa harganya?',\n",
        "             'output': 'Paket Internet yang tersedia saat ini adalah paket internet Murah Meriah 10GB dengan harga Rp50.000. Anda bisa membelinya melalui aplikasi MyTelkomsel atau dial *363#.',\n",
        "        },{\n",
        "             'text_input': 'Bagaimana cara cek sisa kuota internet saya?',\n",
        "             'output': 'Anda bisa mengecek sisa kuota dengan dial *888# atau melalui aplikasi MyTelkomsel.',\n",
        "        },{\n",
        "             'text_input': 'Saya mengalami masalah dengan jaringan, sinyal sering hilang. Apa yang harus saya lakukan?',\n",
        "             'output': 'Mohon coba restart ponsel Anda dan pastikan berada di area dengan jangkauan sinyal yang baik. Jika masalah berlanjut, hubungi layanan pelanggan 188.',\n",
        "        },{\n",
        "             'text_input': 'Apakah ada promo paket nelpon untuk bulan ini?',\n",
        "             'output': 'Ya, kami memiliki promo paket nelpon murah ke semua operator. Silakan cek di aplikasi MyTelkomsel atau dial *888#.',\n",
        "        },{\n",
        "             'text_input': 'Saya ingin mengganti kartu SIM saya ke eSIM, bagaimana caranya?',\n",
        "             'output': 'Anda bisa mengganti kartu SIM ke eSIM dengan mengunjungi GraPARI terdekat dan membawa kartu identitas Anda.',\n",
        "        },{\n",
        "             'text_input': 'Kenapa saya tidak bisa mengakses internet meskipun memiliki kuota?',\n",
        "             'output': 'Pastikan pengaturan APN Anda sudah benar, lalu coba restart perangkat Anda. Jika masih bermasalah, hubungi layanan pelanggan.',\n",
        "        },{\n",
        "             'text_input': 'Berapa tarif SMS ke luar negeri dari Telkomsel?',\n",
        "             'output': 'Tarif SMS ke luar negeri bervariasi tergantung negara tujuan. Anda bisa mengecek daftar tarif lengkap di website resmi Telkomsel.',\n",
        "        },{\n",
        "             'text_input': 'Saya ingin berbagi kuota internet ke teman, bagaimana caranya?',\n",
        "             'output': 'Anda bisa menggunakan fitur GIFT di aplikasi MyTelkomsel atau melalui dial 5002#.',\n",
        "        },{\n",
        "             'text_input': 'Apakah bisa transfer pulsa ke operator lain?',\n",
        "             'output': 'Saat ini transfer pulsa hanya bisa dilakukan ke sesama pengguna Telkomsel.',\n",
        "        },{\n",
        "             'text_input': 'Bagaimana cara berhenti langganan paket internet saya?',\n",
        "             'output': 'Anda bisa berhenti langganan paket dengan mengirim SMS: ketik STOP(spasi)NAMA_PAKET kirim ke 3636 atau melalui aplikasi MyTelkomsel.',\n",
        "        }\n",
        "    ],\n",
        "    id = nameIDTelemarketing,\n",
        "    epoch_count = 100,\n",
        "    batch_size=4,\n",
        "    learning_rate=0.001,\n",
        ")\n",
        "print(f\"Fine-tuning model `{nameIDTelemarketing}` is in progress...\")\n"
      ],
      "metadata": {
        "colab": {
          "base_uri": "https://localhost:8080/",
          "height": 35
        },
        "id": "l7fHjkxaR9sa",
        "outputId": "d316ce02-2f06-454c-8202-33bc7f191ecd"
      },
      "execution_count": 125,
      "outputs": [
        {
          "output_type": "stream",
          "name": "stdout",
          "text": [
            "Fine-tuning model `generate-num-3064` is in progress...\n"
          ]
        }
      ]
    },
    {
      "cell_type": "code",
      "source": [
        "modelIDTelemarketing = genai.get_tuned_model(f'tunedModels/{nameIDTelemarketing}')\n",
        "\n",
        "modelIDTelemarketing"
      ],
      "metadata": {
        "colab": {
          "base_uri": "https://localhost:8080/",
          "height": 349
        },
        "id": "bclhXmK5SWqF",
        "outputId": "54fda043-b28d-468d-961a-6133b4f2bb35"
      },
      "execution_count": 126,
      "outputs": [
        {
          "output_type": "execute_result",
          "data": {
            "text/plain": [
              "TunedModel(name='tunedModels/generate-num-3064',\n",
              "           source_model='models/gemini-1.5-flash-001-tuning',\n",
              "           base_model='models/gemini-1.5-flash-001-tuning',\n",
              "           display_name='',\n",
              "           description='',\n",
              "           temperature=1.0,\n",
              "           top_p=0.95,\n",
              "           top_k=64,\n",
              "           state=<State.CREATING: 1>,\n",
              "           create_time=datetime.datetime(2025, 3, 3, 2, 2, 26, 669613, tzinfo=datetime.timezone.utc),\n",
              "           update_time=datetime.datetime(2025, 3, 3, 2, 2, 26, 669613, tzinfo=datetime.timezone.utc),\n",
              "           tuning_task=TuningTask(start_time=None,\n",
              "                                  complete_time=None,\n",
              "                                  snapshots=[],\n",
              "                                  hyperparameters=Hyperparameters(epoch_count=100,\n",
              "                                                                  batch_size=4,\n",
              "                                                                  learning_rate=0.001)),\n",
              "           reader_project_numbers=None)"
            ]
          },
          "metadata": {},
          "execution_count": 126
        }
      ]
    },
    {
      "cell_type": "code",
      "source": [
        "modelIDTelemarketing.state"
      ],
      "metadata": {
        "colab": {
          "base_uri": "https://localhost:8080/"
        },
        "id": "HtIncqVYSfpV",
        "outputId": "93d6a726-a121-4f06-9691-23f768aaafc1"
      },
      "execution_count": 127,
      "outputs": [
        {
          "output_type": "execute_result",
          "data": {
            "text/plain": [
              "<State.CREATING: 1>"
            ]
          },
          "metadata": {},
          "execution_count": 127
        }
      ]
    },
    {
      "cell_type": "code",
      "source": [
        "operationIDTelemarketing.metadata"
      ],
      "metadata": {
        "colab": {
          "base_uri": "https://localhost:8080/"
        },
        "id": "jqJoJ-t0Sqbv",
        "outputId": "c6daf4a7-3edb-4573-e73b-a9027763b1cb"
      },
      "execution_count": 128,
      "outputs": [
        {
          "output_type": "execute_result",
          "data": {
            "text/plain": [
              "tuned_model: \"tunedModels/generate-num-3064\"\n",
              "total_steps: 250"
            ]
          },
          "metadata": {},
          "execution_count": 128
        }
      ]
    },
    {
      "cell_type": "code",
      "source": [
        "import time\n",
        "\n",
        "for status in operationIDTelemarketing.wait_bar():\n",
        "  time.sleep(30)"
      ],
      "metadata": {
        "colab": {
          "base_uri": "https://localhost:8080/",
          "height": 49,
          "referenced_widgets": [
            "84debf6acd8f4d2d8af92a6dd42c976a",
            "ddb04a84195f4ca7bc841c72a914f7a5",
            "7a560397673648a8a3a026dfb53633a4",
            "286ebe275d434b2291f69391798172a5",
            "d338b33c55b84fcaa82d4014d093de9f",
            "0218bb78d11d4f968b6c5c0dbe4a2430",
            "68c507f794f74f018e4513085b7264ca",
            "d68cdc96282548a09f5c963d1d873936",
            "fa56f795f0b4419da48557372ccf98c6",
            "fc81084594874502bfb3c7ec6e094428",
            "f25e6efa26e44c4da3970cea2b4fb14e"
          ]
        },
        "id": "t8jmJ8F8SywE",
        "outputId": "b000cec4-9618-41c9-ac89-fe314b53b49b"
      },
      "execution_count": 129,
      "outputs": [
        {
          "output_type": "display_data",
          "data": {
            "text/plain": [
              "  0%|          | 0/250 [00:00<?, ?it/s]"
            ],
            "application/vnd.jupyter.widget-view+json": {
              "version_major": 2,
              "version_minor": 0,
              "model_id": "84debf6acd8f4d2d8af92a6dd42c976a"
            }
          },
          "metadata": {}
        }
      ]
    },
    {
      "cell_type": "code",
      "source": [
        "import pandas as pd\n",
        "import seaborn as sns\n",
        "\n",
        "modelIDTelemarketing = operationIDTelemarketing.result()\n",
        "\n",
        "snapshots = pd.DataFrame(modelIDTelemarketing.tuning_task.snapshots)\n",
        "\n",
        "sns.lineplot(data=snapshots, x = 'epoch', y='mean_loss')\n"
      ],
      "metadata": {
        "colab": {
          "base_uri": "https://localhost:8080/",
          "height": 467
        },
        "id": "g0FI4h6gS2vW",
        "outputId": "8a45c479-95ea-43f1-eb08-827213314101"
      },
      "execution_count": 130,
      "outputs": [
        {
          "output_type": "execute_result",
          "data": {
            "text/plain": [
              "<Axes: xlabel='epoch', ylabel='mean_loss'>"
            ]
          },
          "metadata": {},
          "execution_count": 130
        },
        {
          "output_type": "display_data",
          "data": {
            "text/plain": [
              "<Figure size 640x480 with 1 Axes>"
            ],
            "image/png": "[encoded data removed]"
          },
          "metadata": {}
        }
      ]
    },
    {
      "cell_type": "code",
      "source": [
        "modelIDTelemarketing = genai.GenerativeModel(model_name=f'tunedModels/{nameIDTelemarketing}')"
      ],
      "metadata": {
        "id": "nMfngJlPTAUs"
      },
      "execution_count": 131,
      "outputs": []
    },
    {
      "cell_type": "code",
      "source": [
        "result = modelIDTelemarketing.generate_content('apa rekomendasi paket internet yang bisa saya beli?')\n",
        "result.text"
      ],
      "metadata": {
        "colab": {
          "base_uri": "https://localhost:8080/",
          "height": 36
        },
        "id": "fOmtcCteTKHB",
        "outputId": "56262ed0-309a-4cbe-c168-1804601eeeb7"
      },
      "execution_count": 132,
      "outputs": [
        {
          "output_type": "execute_result",
          "data": {
            "text/plain": [
              "'Kami rekomendasikan paket internet yang sesuai dengan kebutuhan Anda. Silakan ketik *363# atau melalui aplikasi MyTelkomsel.'"
            ],
            "application/vnd.google.colaboratory.intrinsic+json": {
              "type": "string"
            }
          },
          "metadata": {},
          "execution_count": 132
        }
      ]
    },
    {
      "cell_type": "markdown",
      "source": [
        "###Fine Tuning Model LLM AI Jawa"
      ],
      "metadata": {
        "id": "0VBMYaPkhzGm"
      }
    },
    {
      "cell_type": "code",
      "source": [
        "import random\n",
        "import google.generativeai as genai\n",
        "\n",
        "# Nama model fine-tuned\n",
        "nameJawaTelemarketing = f'generate-num-{random.randint(0,10000)}'\n",
        "\n",
        "# Membuat model fine-tuned dengan dataset Bahasa Jawa\n",
        "operationJawaTelemarketing = genai.create_tuned_model(\n",
        "    source_model=\"models/gemini-1.5-flash-001-tuning\",  # Model yang mendukung fine-tuning\n",
        "    training_data=[\n",
        "        {\n",
        "             'text_input': 'Aku pengin tuku paket internet 10GB sing ana saiki, pira regane?',\n",
        "             'output': 'Paket Internet sing kasedhiya saiki yaiku paket internet Murah Meriah 10GB kanthi rega Rp50.000. Panjenengan saget tumbas liwat aplikasi MyTelkomsel utawi dial *363#.',\n",
        "        },{\n",
        "             'text_input': 'Kados pundi cara mriksa sisa kuota internet kula?',\n",
        "             'output': 'Panjenengan saget mriksa kuota kanthi dial *888# utawi liwat aplikasi MyTelkomsel.',\n",
        "        },{\n",
        "             'text_input': 'Kula nemui masalah jaringan, sinyal sering ilang. Kados pundi solusine?',\n",
        "             'output': 'Coba restart HP panjenengan lan priksa menawi wonten ing wilayah kanthi sinyal ingkang sae. Menawi tetep bermasalah, mangga hubungi 188.',\n",
        "        },{\n",
        "             'text_input': 'Nopo wonten promo paket nelpon wulan menika?',\n",
        "             'output': 'Inggih, kita gadhah promo nelpon murah. Mangga cek ing aplikasi MyTelkomsel utawi dial *888#.',\n",
        "        },{\n",
        "             'text_input': 'Kados pundi cara ganti kartu SIM dados eSIM?',\n",
        "             'output': 'Panjenengan saget mendhet eSIM ing GraPARI kanthi nyedhiyakake kartu identitas.',\n",
        "        },{\n",
        "             'text_input': 'Napa kulo boten saget akses internet sanajan tasih wonten kuota?',\n",
        "             'output': 'Priksa setelan APN panjenengan lan coba restart piranti panjenengan. Menawi tasih bermasalah, mangga hubungi layanan pelanggan.',\n",
        "        },{\n",
        "             'text_input': 'Pinten tarif SMS dhateng luar negeri?',\n",
        "             'output': 'Tarif SMS gumantung negara tujuan. Panjenengan saget priksa tarif ing situs resmi Telkomsel.',\n",
        "        },{\n",
        "             'text_input': 'Kados pundi cara mindhah pulsa dhateng kanca?',\n",
        "             'output': 'Panjenengan saged nggunakake fitur GIFT ing aplikasi MyTelkomsel utawi dial 5002#.',\n",
        "        },{\n",
        "             'text_input': 'Napa aku boten saged transfer pulsa dhateng operator sanes?',\n",
        "             'output': 'Transfer pulsa mung saget kangge pangguna Telkomsel kemawon.',\n",
        "        },{\n",
        "             'text_input': 'Kados pundi cara mandheg langganan paket internet?',\n",
        "             'output': 'Panjenengan saged mandheg langganan paket kanthi ngirim SMS: ketik STOP(spasi)NAMA_PAKET lan kirim menyang 3636.',\n",
        "        }\n",
        "    ],\n",
        "    id=nameJawaTelemarketing,\n",
        "    epoch_count=100,\n",
        "    batch_size=4,\n",
        "    learning_rate=0.001,\n",
        ")\n",
        "\n",
        "print(f\"Fine-tuning model `{nameJawaTelemarketing}` is in progress...\")\n"
      ],
      "metadata": {
        "colab": {
          "base_uri": "https://localhost:8080/",
          "height": 35
        },
        "id": "q-MiHmFvhXCm",
        "outputId": "95823a34-4a0c-4981-e92a-8ddb3dff8e54"
      },
      "execution_count": 133,
      "outputs": [
        {
          "output_type": "stream",
          "name": "stdout",
          "text": [
            "Fine-tuning model `generate-num-4772` is in progress...\n"
          ]
        }
      ]
    },
    {
      "cell_type": "code",
      "source": [
        "modelJawaTelemarketing = genai.get_tuned_model(f'tunedModels/{nameIDTelemarketing}')\n",
        "\n",
        "modelJawaTelemarketing"
      ],
      "metadata": {
        "colab": {
          "base_uri": "https://localhost:8080/",
          "height": 349
        },
        "id": "Z21zV1_mhbY4",
        "outputId": "ecfc992f-ee1e-4c74-cb6f-160c82e6b4bb"
      },
      "execution_count": 134,
      "outputs": [
        {
          "output_type": "execute_result",
          "data": {
            "text/plain": [
              "TunedModel(name='tunedModels/generate-num-3064',\n",
              "           source_model='models/gemini-1.5-flash-001-tuning',\n",
              "           base_model='models/gemini-1.5-flash-001-tuning',\n",
              "           display_name='',\n",
              "           description='',\n",
              "           temperature=1.0,\n",
              "           top_p=0.95,\n",
              "           top_k=64,\n",
              "           state=<State.ACTIVE: 2>,\n",
              "           create_time=datetime.datetime(2025, 3, 3, 2, 2, 26, 669613, tzinfo=datetime.timezone.utc),\n",
              "           update_time=datetime.datetime(2025, 3, 3, 2, 13, 8, 757976, tzinfo=datetime.timezone.utc),\n",
              "           tuning_task=TuningTask(start_time=datetime.datetime(2025, 3, 3, 2, 2, 28, 32899, tzinfo=datetime.timezone.utc),\n",
              "                                  complete_time=datetime.datetime(2025, 3, 3, 2, 13, 8, 757976, tzinfo=datetime.timezone.utc),\n",
              "                                  snapshots=[...],\n",
              "                                  hyperparameters=Hyperparameters(epoch_count=100,\n",
              "                                                                  batch_size=4,\n",
              "                                                                  learning_rate=0.001)),\n",
              "           reader_project_numbers=None)"
            ]
          },
          "metadata": {},
          "execution_count": 134
        }
      ]
    },
    {
      "cell_type": "code",
      "source": [
        "modelJawaTelemarketing.state"
      ],
      "metadata": {
        "colab": {
          "base_uri": "https://localhost:8080/"
        },
        "id": "WSJ2kyTMhiZ8",
        "outputId": "a1b5f89d-5a6f-43b8-a295-f6ff6e192c38"
      },
      "execution_count": 135,
      "outputs": [
        {
          "output_type": "execute_result",
          "data": {
            "text/plain": [
              "<State.ACTIVE: 2>"
            ]
          },
          "metadata": {},
          "execution_count": 135
        }
      ]
    },
    {
      "cell_type": "code",
      "source": [
        "operationJawaTelemarketing.metadata"
      ],
      "metadata": {
        "colab": {
          "base_uri": "https://localhost:8080/"
        },
        "id": "v-1cr5oPi7uu",
        "outputId": "a5f8c929-01f6-4efc-aea7-5fd5252ad5f6"
      },
      "execution_count": 136,
      "outputs": [
        {
          "output_type": "execute_result",
          "data": {
            "text/plain": [
              "tuned_model: \"tunedModels/generate-num-4772\"\n",
              "total_steps: 250"
            ]
          },
          "metadata": {},
          "execution_count": 136
        }
      ]
    },
    {
      "cell_type": "code",
      "source": [
        "import time\n",
        "\n",
        "for status in operationJawaTelemarketing.wait_bar():\n",
        "  time.sleep(30)"
      ],
      "metadata": {
        "colab": {
          "base_uri": "https://localhost:8080/",
          "height": 49,
          "referenced_widgets": [
            "9ddd06e6a1e14965b1a3bafc6142dc9f",
            "3b07654d2daf4edabf524de69419e6ef",
            "14f6a592d5b441edbe224b6b8b5ac78a",
            "da46d21d22bb4f299dc916e2279efae7",
            "81905713ff354735aa9902e97018b06c",
            "cc912d398baf498e8126b34884900180",
            "baa5f9fe990247d39850879a45c9bb11",
            "c3172e4af7464d409a3e94ec121e4159",
            "21e47ead6731448e92b09daf300768af",
            "79c8ba35a40a435fb2215d301261195c",
            "2b5dcc43d8144ad8a69f70815dffba60"
          ]
        },
        "id": "haP40tn7i70-",
        "outputId": "e1e28b24-d430-4c8f-843e-0fddae6c8eb8"
      },
      "execution_count": 137,
      "outputs": [
        {
          "output_type": "display_data",
          "data": {
            "text/plain": [
              "  0%|          | 0/250 [00:00<?, ?it/s]"
            ],
            "application/vnd.jupyter.widget-view+json": {
              "version_major": 2,
              "version_minor": 0,
              "model_id": "9ddd06e6a1e14965b1a3bafc6142dc9f"
            }
          },
          "metadata": {}
        }
      ]
    },
    {
      "cell_type": "code",
      "source": [
        "import pandas as pd\n",
        "import seaborn as sns\n",
        "\n",
        "modelJawaTelemarketing = operationJawaTelemarketing.result()\n",
        "\n",
        "snapshots = pd.DataFrame(modelJawaTelemarketing.tuning_task.snapshots)\n",
        "\n",
        "sns.lineplot(data=snapshots, x = 'epoch', y='mean_loss')\n"
      ],
      "metadata": {
        "colab": {
          "base_uri": "https://localhost:8080/",
          "height": 467
        },
        "id": "pqa85NSpi77G",
        "outputId": "2a189bc5-966c-4806-88a2-37fa26dafa4b"
      },
      "execution_count": 138,
      "outputs": [
        {
          "output_type": "execute_result",
          "data": {
            "text/plain": [
              "<Axes: xlabel='epoch', ylabel='mean_loss'>"
            ]
          },
          "metadata": {},
          "execution_count": 138
        },
        {
          "output_type": "display_data",
          "data": {
            "text/plain": [
              "<Figure size 640x480 with 1 Axes>"
            ],
            "image/png": "[encoded data removed]"
          },
          "metadata": {}
        }
      ]
    },
    {
      "cell_type": "code",
      "source": [
        "modelJawaTelemarketing = genai.GenerativeModel(model_name=f'tunedModels/{nameJawaTelemarketing}')"
      ],
      "metadata": {
        "id": "ayTMSgROi8BO"
      },
      "execution_count": 139,
      "outputs": []
    },
    {
      "cell_type": "code",
      "source": [
        "# Menggunakan model yang telah di-fine-tune dalam Bahasa Jawa\n",
        "result = modelJawaTelemarketing.generate_content('Menapa rekomendasi paket internet ingkang saged kula tumbas?')\n",
        "result.text\n"
      ],
      "metadata": {
        "colab": {
          "base_uri": "https://localhost:8080/",
          "height": 36
        },
        "id": "vt9-nKIQi8G2",
        "outputId": "fbbbf885-2900-4684-f485-f35360a4a034"
      },
      "execution_count": 144,
      "outputs": [
        {
          "output_type": "execute_result",
          "data": {
            "text/plain": [
              "'Kula saget nyedhiyakake paket internet kanthi kuota lan harga ingkang kompetitif. Mangga cek ing aplikasi MyTelkomsel utawi dial *363#.'"
            ],
            "application/vnd.google.colaboratory.intrinsic+json": {
              "type": "string"
            }
          },
          "metadata": {},
          "execution_count": 144
        }
      ]
    },
    {
      "cell_type": "code",
      "source": [
        "import random\n",
        "import google.generativeai as genai\n",
        "\n",
        "# Nama model fine-tuned\n",
        "nameSundaTelemarketing = f'generate-num-{random.randint(0,10000)}'\n",
        "\n",
        "# Membuat model fine-tuned dengan dataset Bahasa Sunda\n",
        "operationSundaTelemarketing = genai.create_tuned_model(\n",
        "    source_model=\"models/gemini-1.5-flash-001-tuning\",  # Model yang mendukung fine-tuning\n",
        "    training_data=[\n",
        "        {\n",
        "             'text_input': 'Abdi hoyong mésér paket internet 10GB anu aya ayeuna, sabaraha hargana?',\n",
        "             'output': 'Paket Internet anu sayogi ayeuna nyaéta paket internet Murah Meriah 10GB kalayan harga Rp50.000. Anjeun tiasa ngagaleuhna ngalangkungan aplikasi MyTelkomsel atanapi dial *363#.',\n",
        "        },{\n",
        "             'text_input': 'Kumaha cara mariksa sésa kuota internet abdi?',\n",
        "             'output': 'Anjeun tiasa mariksa kuota ku dial *888# atanapi nganggo aplikasi MyTelkomsel.',\n",
        "        },{\n",
        "             'text_input': 'Abdi ngagaduhan masalah jaringan, sinyal sok leungit. Kumaha solusina?',\n",
        "             'output': 'Coba restart HP sareng pastikeun anjeun aya di wewengkon anu sinyalna kuat. Upami masih bermasalah, telepon 188.',\n",
        "        },{\n",
        "             'text_input': 'Aya promo paket nelepon bulan ieu?',\n",
        "             'output': 'Leres, aya promo nelepon murah. Mangga cek di aplikasi MyTelkomsel atanapi dial *888#.',\n",
        "        },{\n",
        "             'text_input': 'Kumaha cara ngaganti kartu SIM ka eSIM?',\n",
        "             'output': 'Anjeun tiasa ngarobih ka eSIM di GraPARI ku nyayogikeun kartu identitas anjeun.',\n",
        "        },{\n",
        "             'text_input': 'Naha abdi henteu tiasa ngaksés internet sanajan gaduh kuota?',\n",
        "             'output': 'Pastikeun setelan APN leres, teras coba restart alat anjeun. Upami masih bermasalah, telepon layanan palanggan.',\n",
        "        },{\n",
        "             'text_input': 'Sabaraha tarif SMS ka luar negeri?',\n",
        "             'output': 'Tarif SMS gumantung kana nagara tujuan. Anjeun tiasa mariksa tarifna dina halaman wéb resmi Telkomsel.',\n",
        "        },{\n",
        "             'text_input': 'Kumaha cara ngirim pulsa ka rerencangan?',\n",
        "             'output': 'Anjeun tiasa nganggo fitur GIFT dina aplikasi MyTelkomsel atanapi ku dial 5002#.',\n",
        "        },{\n",
        "             'text_input': 'Naha tiasa transfer pulsa ka operator sanés?',\n",
        "             'output': 'Pikeun ayeuna, transfer pulsa ngan ukur tiasa ka sesama Telkomsel.',\n",
        "        },{\n",
        "             'text_input': 'Kumaha cara ngeureunkeun langganan paket internet?',\n",
        "             'output': 'Anjeun tiasa ngeureunkeun langganan ku SMS: ketik STOP(spasi)NAMA_PAKET kirim ka 3636 atanapi via aplikasi MyTelkomsel.',\n",
        "        }\n",
        "    ],\n",
        "    id=nameSundaTelemarketing,\n",
        "    epoch_count=100,\n",
        "    batch_size=4,\n",
        "    learning_rate=0.001,\n",
        ")\n",
        "\n",
        "print(f\"Fine-tuning model `{nameSundaTelemarketing}` is in progress...\")\n"
      ],
      "metadata": {
        "colab": {
          "base_uri": "https://localhost:8080/",
          "height": 35
        },
        "id": "oE-740ALk9XI",
        "outputId": "8a5a5fe0-9ceb-453e-e301-73c171dd0e38"
      },
      "execution_count": 142,
      "outputs": [
        {
          "output_type": "stream",
          "name": "stdout",
          "text": [
            "Fine-tuning model `generate-num-1657` is in progress...\n"
          ]
        }
      ]
    },
    {
      "cell_type": "code",
      "source": [
        "modelSundaTelemarketing = genai.get_tuned_model(f'tunedModels/{nameSundaTelemarketing}')\n"
      ],
      "metadata": {
        "id": "O7G4bLiklNBq"
      },
      "execution_count": 145,
      "outputs": []
    },
    {
      "cell_type": "code",
      "source": [
        "modelSundaTelemarketing"
      ],
      "metadata": {
        "colab": {
          "base_uri": "https://localhost:8080/"
        },
        "id": "csRI1c4llNFp",
        "outputId": "1e81bad5-b056-46b2-db93-629234680f86"
      },
      "execution_count": 146,
      "outputs": [
        {
          "output_type": "execute_result",
          "data": {
            "text/plain": [
              "TunedModel(name='tunedModels/generate-num-1657',\n",
              "           source_model='models/gemini-1.5-flash-001-tuning',\n",
              "           base_model='models/gemini-1.5-flash-001-tuning',\n",
              "           display_name='',\n",
              "           description='',\n",
              "           temperature=1.0,\n",
              "           top_p=0.95,\n",
              "           top_k=64,\n",
              "           state=<State.CREATING: 1>,\n",
              "           create_time=datetime.datetime(2025, 3, 3, 3, 36, 25, 100885, tzinfo=datetime.timezone.utc),\n",
              "           update_time=datetime.datetime(2025, 3, 3, 3, 38, 29, 564152, tzinfo=datetime.timezone.utc),\n",
              "           tuning_task=TuningTask(start_time=datetime.datetime(2025, 3, 3, 3, 36, 26, 335138, tzinfo=datetime.timezone.utc),\n",
              "                                  complete_time=None,\n",
              "                                  snapshots=[...],\n",
              "                                  hyperparameters=Hyperparameters(epoch_count=100,\n",
              "                                                                  batch_size=4,\n",
              "                                                                  learning_rate=0.001)),\n",
              "           reader_project_numbers=None)"
            ]
          },
          "metadata": {},
          "execution_count": 146
        }
      ]
    },
    {
      "cell_type": "code",
      "source": [
        "modelSundaTelemarketing.state"
      ],
      "metadata": {
        "colab": {
          "base_uri": "https://localhost:8080/"
        },
        "id": "tnpGP5x1lNLh",
        "outputId": "a23e078a-13b6-484b-a7aa-5416b578b1ea"
      },
      "execution_count": 147,
      "outputs": [
        {
          "output_type": "execute_result",
          "data": {
            "text/plain": [
              "<State.CREATING: 1>"
            ]
          },
          "metadata": {},
          "execution_count": 147
        }
      ]
    },
    {
      "cell_type": "code",
      "source": [
        "operationSundaTelemarketing.metadata"
      ],
      "metadata": {
        "colab": {
          "base_uri": "https://localhost:8080/"
        },
        "id": "9w1OCWuylNR6",
        "outputId": "5c42f109-0a6c-498e-c71a-2fcf0fcbe01a"
      },
      "execution_count": 148,
      "outputs": [
        {
          "output_type": "execute_result",
          "data": {
            "text/plain": [
              "tuned_model: \"tunedModels/generate-num-1657\"\n",
              "total_steps: 250"
            ]
          },
          "metadata": {},
          "execution_count": 148
        }
      ]
    },
    {
      "cell_type": "code",
      "source": [
        "import time\n",
        "\n",
        "# Menunggu proses fine-tuning selesai\n",
        "for status in operationSundaTelemarketing.wait_bar():\n",
        "    time.sleep(30)\n",
        "\n"
      ],
      "metadata": {
        "colab": {
          "base_uri": "https://localhost:8080/",
          "height": 49,
          "referenced_widgets": [
            "43dbc22b383c4f76ab160f8c9c335f74",
            "f90b315b9cba4518b37a89301351a3c2",
            "fb9c124d19d14136afb1f82abb8cc651",
            "3f7d467ffa294079a9e9f0dcad959151",
            "a14d6c3d46a3436caec973017afbcf77",
            "4c942848e4f1488081f311a045dd60fc",
            "9091d067fee84ca6a7fc5cd833d8bd6f",
            "54f5f2539948415190c1f2c43833232d",
            "feee1248cd1d4ef691ca78f597fed8d7",
            "564b907702424306aa3d45dbd73391e4",
            "0b90a8d4e2af4d95adc3d6864d07a3e9"
          ]
        },
        "id": "u5KYEBTolNXp",
        "outputId": "725bff8d-a3d6-40bb-b792-cf715c6f3564"
      },
      "execution_count": 149,
      "outputs": [
        {
          "output_type": "display_data",
          "data": {
            "text/plain": [
              "  0%|          | 0/250 [00:00<?, ?it/s]"
            ],
            "application/vnd.jupyter.widget-view+json": {
              "version_major": 2,
              "version_minor": 0,
              "model_id": "43dbc22b383c4f76ab160f8c9c335f74"
            }
          },
          "metadata": {}
        }
      ]
    },
    {
      "cell_type": "code",
      "source": [
        "import pandas as pd\n",
        "import seaborn as sns\n",
        "# Mendapatkan hasil fine-tuning\n",
        "modelSundaTelemarketing = operationSundaTelemarketing.result()\n",
        "# Menyimpan snapshot hasil pelatihan\n",
        "snapshots = pd.DataFrame(modelSundaTelemarketing.tuning_task.snapshots)\n",
        "\n",
        "# Membuat grafik loss selama pelatihan\n",
        "sns.lineplot(data=snapshots, x='epoch', y='mean_loss')"
      ],
      "metadata": {
        "colab": {
          "base_uri": "https://localhost:8080/",
          "height": 467
        },
        "id": "MUPVWnN3lNeC",
        "outputId": "8fc3bbf9-ff90-4ddc-da7e-33de8dc00042"
      },
      "execution_count": 150,
      "outputs": [
        {
          "output_type": "execute_result",
          "data": {
            "text/plain": [
              "<Axes: xlabel='epoch', ylabel='mean_loss'>"
            ]
          },
          "metadata": {},
          "execution_count": 150
        },
        {
          "output_type": "display_data",
          "data": {
            "text/plain": [
              "<Figure size 640x480 with 1 Axes>"
            ],
            "image/png": "[encoded data removed]"
          },
          "metadata": {}
        }
      ]
    },
    {
      "cell_type": "code",
      "source": [
        "# Menggunakan model yang telah di-fine-tune\n",
        "modelSundaTelemarketing = genai.GenerativeModel(model_name=f'tunedModels/{nameSundaTelemarketing}')"
      ],
      "metadata": {
        "id": "9qfjjagulNka"
      },
      "execution_count": 154,
      "outputs": []
    },
    {
      "cell_type": "code",
      "source": [
        "# Menguji model dengan input dalam Bahasa Sunda\n",
        "result = modelSundaTelemarketing.generate_content('Naon rekomendasi paket internet anu tiasa abdi mésér?')\n",
        "result.text\n",
        "\n"
      ],
      "metadata": {
        "colab": {
          "base_uri": "https://localhost:8080/",
          "height": 36
        },
        "id": "HtaVwkmAleQT",
        "outputId": "aef7faf4-c31a-4498-b5ae-88241d85f34d"
      },
      "execution_count": 156,
      "outputs": [
        {
          "output_type": "execute_result",
          "data": {
            "text/plain": [
              "'Simkuring nyayogikeun beraneka pilihan paket kuota. Anjeun tiasa mésér kuota tambahan dina aplikasi MyTelkomsel atanapi dial *363#.'"
            ],
            "application/vnd.google.colaboratory.intrinsic+json": {
              "type": "string"
            }
          },
          "metadata": {},
          "execution_count": 156
        }
      ]
    }
  ],
  "metadata": {
    "colab": {
      "name": "python.ipynb",
      "toc_visible": true,
      "provenance": []
    },
    "kernelspec": {
      "display_name": "Python 3",
      "name": "python3"
    },
    "widgets": {
      "application/vnd.jupyter.widget-state+json": {
        "27dc6b5968b44edcbb355a21f0f6518c": {
          "model_module": "@jupyter-widgets/controls",
          "model_name": "HBoxModel",
          "model_module_version": "1.5.0",
          "state": {
            "_dom_classes": [],
            "_model_module": "@jupyter-widgets/controls",
            "_model_module_version": "1.5.0",
            "_model_name": "HBoxModel",
            "_view_count": null,
            "_view_module": "@jupyter-widgets/controls",
            "_view_module_version": "1.5.0",
            "_view_name": "HBoxView",
            "box_style": "",
            "children": [
              "IPY_MODEL_75dbcbb897004705b7b0eaf0db915535",
              "IPY_MODEL_d40ecc036a1b4825b235f330242871c6",
              "IPY_MODEL_93f1d182185f4d1cac5fb0eaebf20f83"
            ],
            "layout": "IPY_MODEL_57fc0cc030944f67a1f2faed0bcae08b"
          }
        },
        "75dbcbb897004705b7b0eaf0db915535": {
          "model_module": "@jupyter-widgets/controls",
          "model_name": "HTMLModel",
          "model_module_version": "1.5.0",
          "state": {
            "_dom_classes": [],
            "_model_module": "@jupyter-widgets/controls",
            "_model_module_version": "1.5.0",
            "_model_name": "HTMLModel",
            "_view_count": null,
            "_view_module": "@jupyter-widgets/controls",
            "_view_module_version": "1.5.0",
            "_view_name": "HTMLView",
            "description": "",
            "description_tooltip": null,
            "layout": "IPY_MODEL_2f1c6f5cb7a34a30888e1e249ab18f5f",
            "placeholder": "​",
            "style": "IPY_MODEL_988ac720bbf84a2f8716e27a6fe44aca",
            "value": "100%"
          }
        },
        "d40ecc036a1b4825b235f330242871c6": {
          "model_module": "@jupyter-widgets/controls",
          "model_name": "FloatProgressModel",
          "model_module_version": "1.5.0",
          "state": {
            "_dom_classes": [],
            "_model_module": "@jupyter-widgets/controls",
            "_model_module_version": "1.5.0",
            "_model_name": "FloatProgressModel",
            "_view_count": null,
            "_view_module": "@jupyter-widgets/controls",
            "_view_module_version": "1.5.0",
            "_view_name": "ProgressView",
            "bar_style": "",
            "description": "",
            "description_tooltip": null,
            "layout": "IPY_MODEL_9d9d2e8445e84b1f8633117078986e17",
            "max": 375,
            "min": 0,
            "orientation": "horizontal",
            "style": "IPY_MODEL_7b6b18a519a648a4bf77999250a2f6ed",
            "value": 375
          }
        },
        "93f1d182185f4d1cac5fb0eaebf20f83": {
          "model_module": "@jupyter-widgets/controls",
          "model_name": "HTMLModel",
          "model_module_version": "1.5.0",
          "state": {
            "_dom_classes": [],
            "_model_module": "@jupyter-widgets/controls",
            "_model_module_version": "1.5.0",
            "_model_name": "HTMLModel",
            "_view_count": null,
            "_view_module": "@jupyter-widgets/controls",
            "_view_module_version": "1.5.0",
            "_view_name": "HTMLView",
            "description": "",
            "description_tooltip": null,
            "layout": "IPY_MODEL_2a1b5d6f48d748cdb03c3809f34039f2",
            "placeholder": "​",
            "style": "IPY_MODEL_6b68c58d944a49aa936bca80e35452b0",
            "value": " 375/375 [18:27&lt;00:00,  2.53s/it]"
          }
        },
        "57fc0cc030944f67a1f2faed0bcae08b": {
          "model_module": "@jupyter-widgets/base",
          "model_name": "LayoutModel",
          "model_module_version": "1.2.0",
          "state": {
            "_model_module": "@jupyter-widgets/base",
            "_model_module_version": "1.2.0",
            "_model_name": "LayoutModel",
            "_view_count": null,
            "_view_module": "@jupyter-widgets/base",
            "_view_module_version": "1.2.0",
            "_view_name": "LayoutView",
            "align_content": null,
            "align_items": null,
            "align_self": null,
            "border": null,
            "bottom": null,
            "display": null,
            "flex": null,
            "flex_flow": null,
            "grid_area": null,
            "grid_auto_columns": null,
            "grid_auto_flow": null,
            "grid_auto_rows": null,
            "grid_column": null,
            "grid_gap": null,
            "grid_row": null,
            "grid_template_areas": null,
            "grid_template_columns": null,
            "grid_template_rows": null,
            "height": null,
            "justify_content": null,
            "justify_items": null,
            "left": null,
            "margin": null,
            "max_height": null,
            "max_width": null,
            "min_height": null,
            "min_width": null,
            "object_fit": null,
            "object_position": null,
            "order": null,
            "overflow": null,
            "overflow_x": null,
            "overflow_y": null,
            "padding": null,
            "right": null,
            "top": null,
            "visibility": null,
            "width": null
          }
        },
        "2f1c6f5cb7a34a30888e1e249ab18f5f": {
          "model_module": "@jupyter-widgets/base",
          "model_name": "LayoutModel",
          "model_module_version": "1.2.0",
          "state": {
            "_model_module": "@jupyter-widgets/base",
            "_model_module_version": "1.2.0",
            "_model_name": "LayoutModel",
            "_view_count": null,
            "_view_module": "@jupyter-widgets/base",
            "_view_module_version": "1.2.0",
            "_view_name": "LayoutView",
            "align_content": null,
            "align_items": null,
            "align_self": null,
            "border": null,
            "bottom": null,
            "display": null,
            "flex": null,
            "flex_flow": null,
            "grid_area": null,
            "grid_auto_columns": null,
            "grid_auto_flow": null,
            "grid_auto_rows": null,
            "grid_column": null,
            "grid_gap": null,
            "grid_row": null,
            "grid_template_areas": null,
            "grid_template_columns": null,
            "grid_template_rows": null,
            "height": null,
            "justify_content": null,
            "justify_items": null,
            "left": null,
            "margin": null,
            "max_height": null,
            "max_width": null,
            "min_height": null,
            "min_width": null,
            "object_fit": null,
            "object_position": null,
            "order": null,
            "overflow": null,
            "overflow_x": null,
            "overflow_y": null,
            "padding": null,
            "right": null,
            "top": null,
            "visibility": null,
            "width": null
          }
        },
        "988ac720bbf84a2f8716e27a6fe44aca": {
          "model_module": "@jupyter-widgets/controls",
          "model_name": "DescriptionStyleModel",
          "model_module_version": "1.5.0",
          "state": {
            "_model_module": "@jupyter-widgets/controls",
            "_model_module_version": "1.5.0",
            "_model_name": "DescriptionStyleModel",
            "_view_count": null,
            "_view_module": "@jupyter-widgets/base",
            "_view_module_version": "1.2.0",
            "_view_name": "StyleView",
            "description_width": ""
          }
        },
        "9d9d2e8445e84b1f8633117078986e17": {
          "model_module": "@jupyter-widgets/base",
          "model_name": "LayoutModel",
          "model_module_version": "1.2.0",
          "state": {
            "_model_module": "@jupyter-widgets/base",
            "_model_module_version": "1.2.0",
            "_model_name": "LayoutModel",
            "_view_count": null,
            "_view_module": "@jupyter-widgets/base",
            "_view_module_version": "1.2.0",
            "_view_name": "LayoutView",
            "align_content": null,
            "align_items": null,
            "align_self": null,
            "border": null,
            "bottom": null,
            "display": null,
            "flex": null,
            "flex_flow": null,
            "grid_area": null,
            "grid_auto_columns": null,
            "grid_auto_flow": null,
            "grid_auto_rows": null,
            "grid_column": null,
            "grid_gap": null,
            "grid_row": null,
            "grid_template_areas": null,
            "grid_template_columns": null,
            "grid_template_rows": null,
            "height": null,
            "justify_content": null,
            "justify_items": null,
            "left": null,
            "margin": null,
            "max_height": null,
            "max_width": null,
            "min_height": null,
            "min_width": null,
            "object_fit": null,
            "object_position": null,
            "order": null,
            "overflow": null,
            "overflow_x": null,
            "overflow_y": null,
            "padding": null,
            "right": null,
            "top": null,
            "visibility": null,
            "width": null
          }
        },
        "7b6b18a519a648a4bf77999250a2f6ed": {
          "model_module": "@jupyter-widgets/controls",
          "model_name": "ProgressStyleModel",
          "model_module_version": "1.5.0",
          "state": {
            "_model_module": "@jupyter-widgets/controls",
            "_model_module_version": "1.5.0",
            "_model_name": "ProgressStyleModel",
            "_view_count": null,
            "_view_module": "@jupyter-widgets/base",
            "_view_module_version": "1.2.0",
            "_view_name": "StyleView",
            "bar_color": null,
            "description_width": ""
          }
        },
        "2a1b5d6f48d748cdb03c3809f34039f2": {
          "model_module": "@jupyter-widgets/base",
          "model_name": "LayoutModel",
          "model_module_version": "1.2.0",
          "state": {
            "_model_module": "@jupyter-widgets/base",
            "_model_module_version": "1.2.0",
            "_model_name": "LayoutModel",
            "_view_count": null,
            "_view_module": "@jupyter-widgets/base",
            "_view_module_version": "1.2.0",
            "_view_name": "LayoutView",
            "align_content": null,
            "align_items": null,
            "align_self": null,
            "border": null,
            "bottom": null,
            "display": null,
            "flex": null,
            "flex_flow": null,
            "grid_area": null,
            "grid_auto_columns": null,
            "grid_auto_flow": null,
            "grid_auto_rows": null,
            "grid_column": null,
            "grid_gap": null,
            "grid_row": null,
            "grid_template_areas": null,
            "grid_template_columns": null,
            "grid_template_rows": null,
            "height": null,
            "justify_content": null,
            "justify_items": null,
            "left": null,
            "margin": null,
            "max_height": null,
            "max_width": null,
            "min_height": null,
            "min_width": null,
            "object_fit": null,
            "object_position": null,
            "order": null,
            "overflow": null,
            "overflow_x": null,
            "overflow_y": null,
            "padding": null,
            "right": null,
            "top": null,
            "visibility": null,
            "width": null
          }
        },
        "6b68c58d944a49aa936bca80e35452b0": {
          "model_module": "@jupyter-widgets/controls",
          "model_name": "DescriptionStyleModel",
          "model_module_version": "1.5.0",
          "state": {
            "_model_module": "@jupyter-widgets/controls",
            "_model_module_version": "1.5.0",
            "_model_name": "DescriptionStyleModel",
            "_view_count": null,
            "_view_module": "@jupyter-widgets/base",
            "_view_module_version": "1.2.0",
            "_view_name": "StyleView",
            "description_width": ""
          }
        },
        "84debf6acd8f4d2d8af92a6dd42c976a": {
          "model_module": "@jupyter-widgets/controls",
          "model_name": "HBoxModel",
          "model_module_version": "1.5.0",
          "state": {
            "_dom_classes": [],
            "_model_module": "@jupyter-widgets/controls",
            "_model_module_version": "1.5.0",
            "_model_name": "HBoxModel",
            "_view_count": null,
            "_view_module": "@jupyter-widgets/controls",
            "_view_module_version": "1.5.0",
            "_view_name": "HBoxView",
            "box_style": "",
            "children": [
              "IPY_MODEL_ddb04a84195f4ca7bc841c72a914f7a5",
              "IPY_MODEL_7a560397673648a8a3a026dfb53633a4",
              "IPY_MODEL_286ebe275d434b2291f69391798172a5"
            ],
            "layout": "IPY_MODEL_d338b33c55b84fcaa82d4014d093de9f"
          }
        },
        "ddb04a84195f4ca7bc841c72a914f7a5": {
          "model_module": "@jupyter-widgets/controls",
          "model_name": "HTMLModel",
          "model_module_version": "1.5.0",
          "state": {
            "_dom_classes": [],
            "_model_module": "@jupyter-widgets/controls",
            "_model_module_version": "1.5.0",
            "_model_name": "HTMLModel",
            "_view_count": null,
            "_view_module": "@jupyter-widgets/controls",
            "_view_module_version": "1.5.0",
            "_view_name": "HTMLView",
            "description": "",
            "description_tooltip": null,
            "layout": "IPY_MODEL_0218bb78d11d4f968b6c5c0dbe4a2430",
            "placeholder": "​",
            "style": "IPY_MODEL_68c507f794f74f018e4513085b7264ca",
            "value": "100%"
          }
        },
        "7a560397673648a8a3a026dfb53633a4": {
          "model_module": "@jupyter-widgets/controls",
          "model_name": "FloatProgressModel",
          "model_module_version": "1.5.0",
          "state": {
            "_dom_classes": [],
            "_model_module": "@jupyter-widgets/controls",
            "_model_module_version": "1.5.0",
            "_model_name": "FloatProgressModel",
            "_view_count": null,
            "_view_module": "@jupyter-widgets/controls",
            "_view_module_version": "1.5.0",
            "_view_name": "ProgressView",
            "bar_style": "success",
            "description": "",
            "description_tooltip": null,
            "layout": "IPY_MODEL_d68cdc96282548a09f5c963d1d873936",
            "max": 250,
            "min": 0,
            "orientation": "horizontal",
            "style": "IPY_MODEL_fa56f795f0b4419da48557372ccf98c6",
            "value": 250
          }
        },
        "286ebe275d434b2291f69391798172a5": {
          "model_module": "@jupyter-widgets/controls",
          "model_name": "HTMLModel",
          "model_module_version": "1.5.0",
          "state": {
            "_dom_classes": [],
            "_model_module": "@jupyter-widgets/controls",
            "_model_module_version": "1.5.0",
            "_model_name": "HTMLModel",
            "_view_count": null,
            "_view_module": "@jupyter-widgets/controls",
            "_view_module_version": "1.5.0",
            "_view_name": "HTMLView",
            "description": "",
            "description_tooltip": null,
            "layout": "IPY_MODEL_fc81084594874502bfb3c7ec6e094428",
            "placeholder": "​",
            "style": "IPY_MODEL_f25e6efa26e44c4da3970cea2b4fb14e",
            "value": " 250/250 [10:47&lt;00:00,  2.36s/it]"
          }
        },
        "d338b33c55b84fcaa82d4014d093de9f": {
          "model_module": "@jupyter-widgets/base",
          "model_name": "LayoutModel",
          "model_module_version": "1.2.0",
          "state": {
            "_model_module": "@jupyter-widgets/base",
            "_model_module_version": "1.2.0",
            "_model_name": "LayoutModel",
            "_view_count": null,
            "_view_module": "@jupyter-widgets/base",
            "_view_module_version": "1.2.0",
            "_view_name": "LayoutView",
            "align_content": null,
            "align_items": null,
            "align_self": null,
            "border": null,
            "bottom": null,
            "display": null,
            "flex": null,
            "flex_flow": null,
            "grid_area": null,
            "grid_auto_columns": null,
            "grid_auto_flow": null,
            "grid_auto_rows": null,
            "grid_column": null,
            "grid_gap": null,
            "grid_row": null,
            "grid_template_areas": null,
            "grid_template_columns": null,
            "grid_template_rows": null,
            "height": null,
            "justify_content": null,
            "justify_items": null,
            "left": null,
            "margin": null,
            "max_height": null,
            "max_width": null,
            "min_height": null,
            "min_width": null,
            "object_fit": null,
            "object_position": null,
            "order": null,
            "overflow": null,
            "overflow_x": null,
            "overflow_y": null,
            "padding": null,
            "right": null,
            "top": null,
            "visibility": null,
            "width": null
          }
        },
        "0218bb78d11d4f968b6c5c0dbe4a2430": {
          "model_module": "@jupyter-widgets/base",
          "model_name": "LayoutModel",
          "model_module_version": "1.2.0",
          "state": {
            "_model_module": "@jupyter-widgets/base",
            "_model_module_version": "1.2.0",
            "_model_name": "LayoutModel",
            "_view_count": null,
            "_view_module": "@jupyter-widgets/base",
            "_view_module_version": "1.2.0",
            "_view_name": "LayoutView",
            "align_content": null,
            "align_items": null,
            "align_self": null,
            "border": null,
            "bottom": null,
            "display": null,
            "flex": null,
            "flex_flow": null,
            "grid_area": null,
            "grid_auto_columns": null,
            "grid_auto_flow": null,
            "grid_auto_rows": null,
            "grid_column": null,
            "grid_gap": null,
            "grid_row": null,
            "grid_template_areas": null,
            "grid_template_columns": null,
            "grid_template_rows": null,
            "height": null,
            "justify_content": null,
            "justify_items": null,
            "left": null,
            "margin": null,
            "max_height": null,
            "max_width": null,
            "min_height": null,
            "min_width": null,
            "object_fit": null,
            "object_position": null,
            "order": null,
            "overflow": null,
            "overflow_x": null,
            "overflow_y": null,
            "padding": null,
            "right": null,
            "top": null,
            "visibility": null,
            "width": null
          }
        },
        "68c507f794f74f018e4513085b7264ca": {
          "model_module": "@jupyter-widgets/controls",
          "model_name": "DescriptionStyleModel",
          "model_module_version": "1.5.0",
          "state": {
            "_model_module": "@jupyter-widgets/controls",
            "_model_module_version": "1.5.0",
            "_model_name": "DescriptionStyleModel",
            "_view_count": null,
            "_view_module": "@jupyter-widgets/base",
            "_view_module_version": "1.2.0",
            "_view_name": "StyleView",
            "description_width": ""
          }
        },
        "d68cdc96282548a09f5c963d1d873936": {
          "model_module": "@jupyter-widgets/base",
          "model_name": "LayoutModel",
          "model_module_version": "1.2.0",
          "state": {
            "_model_module": "@jupyter-widgets/base",
            "_model_module_version": "1.2.0",
            "_model_name": "LayoutModel",
            "_view_count": null,
            "_view_module": "@jupyter-widgets/base",
            "_view_module_version": "1.2.0",
            "_view_name": "LayoutView",
            "align_content": null,
            "align_items": null,
            "align_self": null,
            "border": null,
            "bottom": null,
            "display": null,
            "flex": null,
            "flex_flow": null,
            "grid_area": null,
            "grid_auto_columns": null,
            "grid_auto_flow": null,
            "grid_auto_rows": null,
            "grid_column": null,
            "grid_gap": null,
            "grid_row": null,
            "grid_template_areas": null,
            "grid_template_columns": null,
            "grid_template_rows": null,
            "height": null,
            "justify_content": null,
            "justify_items": null,
            "left": null,
            "margin": null,
            "max_height": null,
            "max_width": null,
            "min_height": null,
            "min_width": null,
            "object_fit": null,
            "object_position": null,
            "order": null,
            "overflow": null,
            "overflow_x": null,
            "overflow_y": null,
            "padding": null,
            "right": null,
            "top": null,
            "visibility": null,
            "width": null
          }
        },
        "fa56f795f0b4419da48557372ccf98c6": {
          "model_module": "@jupyter-widgets/controls",
          "model_name": "ProgressStyleModel",
          "model_module_version": "1.5.0",
          "state": {
            "_model_module": "@jupyter-widgets/controls",
            "_model_module_version": "1.5.0",
            "_model_name": "ProgressStyleModel",
            "_view_count": null,
            "_view_module": "@jupyter-widgets/base",
            "_view_module_version": "1.2.0",
            "_view_name": "StyleView",
            "bar_color": null,
            "description_width": ""
          }
        },
        "fc81084594874502bfb3c7ec6e094428": {
          "model_module": "@jupyter-widgets/base",
          "model_name": "LayoutModel",
          "model_module_version": "1.2.0",
          "state": {
            "_model_module": "@jupyter-widgets/base",
            "_model_module_version": "1.2.0",
            "_model_name": "LayoutModel",
            "_view_count": null,
            "_view_module": "@jupyter-widgets/base",
            "_view_module_version": "1.2.0",
            "_view_name": "LayoutView",
            "align_content": null,
            "align_items": null,
            "align_self": null,
            "border": null,
            "bottom": null,
            "display": null,
            "flex": null,
            "flex_flow": null,
            "grid_area": null,
            "grid_auto_columns": null,
            "grid_auto_flow": null,
            "grid_auto_rows": null,
            "grid_column": null,
            "grid_gap": null,
            "grid_row": null,
            "grid_template_areas": null,
            "grid_template_columns": null,
            "grid_template_rows": null,
            "height": null,
            "justify_content": null,
            "justify_items": null,
            "left": null,
            "margin": null,
            "max_height": null,
            "max_width": null,
            "min_height": null,
            "min_width": null,
            "object_fit": null,
            "object_position": null,
            "order": null,
            "overflow": null,
            "overflow_x": null,
            "overflow_y": null,
            "padding": null,
            "right": null,
            "top": null,
            "visibility": null,
            "width": null
          }
        },
        "f25e6efa26e44c4da3970cea2b4fb14e": {
          "model_module": "@jupyter-widgets/controls",
          "model_name": "DescriptionStyleModel",
          "model_module_version": "1.5.0",
          "state": {
            "_model_module": "@jupyter-widgets/controls",
            "_model_module_version": "1.5.0",
            "_model_name": "DescriptionStyleModel",
            "_view_count": null,
            "_view_module": "@jupyter-widgets/base",
            "_view_module_version": "1.2.0",
            "_view_name": "StyleView",
            "description_width": ""
          }
        },
        "9ddd06e6a1e14965b1a3bafc6142dc9f": {
          "model_module": "@jupyter-widgets/controls",
          "model_name": "HBoxModel",
          "model_module_version": "1.5.0",
          "state": {
            "_dom_classes": [],
            "_model_module": "@jupyter-widgets/controls",
            "_model_module_version": "1.5.0",
            "_model_name": "HBoxModel",
            "_view_count": null,
            "_view_module": "@jupyter-widgets/controls",
            "_view_module_version": "1.5.0",
            "_view_name": "HBoxView",
            "box_style": "",
            "children": [
              "IPY_MODEL_3b07654d2daf4edabf524de69419e6ef",
              "IPY_MODEL_14f6a592d5b441edbe224b6b8b5ac78a",
              "IPY_MODEL_da46d21d22bb4f299dc916e2279efae7"
            ],
            "layout": "IPY_MODEL_81905713ff354735aa9902e97018b06c"
          }
        },
        "3b07654d2daf4edabf524de69419e6ef": {
          "model_module": "@jupyter-widgets/controls",
          "model_name": "HTMLModel",
          "model_module_version": "1.5.0",
          "state": {
            "_dom_classes": [],
            "_model_module": "@jupyter-widgets/controls",
            "_model_module_version": "1.5.0",
            "_model_name": "HTMLModel",
            "_view_count": null,
            "_view_module": "@jupyter-widgets/controls",
            "_view_module_version": "1.5.0",
            "_view_name": "HTMLView",
            "description": "",
            "description_tooltip": null,
            "layout": "IPY_MODEL_cc912d398baf498e8126b34884900180",
            "placeholder": "​",
            "style": "IPY_MODEL_baa5f9fe990247d39850879a45c9bb11",
            "value": "100%"
          }
        },
        "14f6a592d5b441edbe224b6b8b5ac78a": {
          "model_module": "@jupyter-widgets/controls",
          "model_name": "FloatProgressModel",
          "model_module_version": "1.5.0",
          "state": {
            "_dom_classes": [],
            "_model_module": "@jupyter-widgets/controls",
            "_model_module_version": "1.5.0",
            "_model_name": "FloatProgressModel",
            "_view_count": null,
            "_view_module": "@jupyter-widgets/controls",
            "_view_module_version": "1.5.0",
            "_view_name": "ProgressView",
            "bar_style": "success",
            "description": "",
            "description_tooltip": null,
            "layout": "IPY_MODEL_c3172e4af7464d409a3e94ec121e4159",
            "max": 250,
            "min": 0,
            "orientation": "horizontal",
            "style": "IPY_MODEL_21e47ead6731448e92b09daf300768af",
            "value": 250
          }
        },
        "da46d21d22bb4f299dc916e2279efae7": {
          "model_module": "@jupyter-widgets/controls",
          "model_name": "HTMLModel",
          "model_module_version": "1.5.0",
          "state": {
            "_dom_classes": [],
            "_model_module": "@jupyter-widgets/controls",
            "_model_module_version": "1.5.0",
            "_model_name": "HTMLModel",
            "_view_count": null,
            "_view_module": "@jupyter-widgets/controls",
            "_view_module_version": "1.5.0",
            "_view_name": "HTMLView",
            "description": "",
            "description_tooltip": null,
            "layout": "IPY_MODEL_79c8ba35a40a435fb2215d301261195c",
            "placeholder": "​",
            "style": "IPY_MODEL_2b5dcc43d8144ad8a69f70815dffba60",
            "value": " 250/250 [10:49&lt;00:00,  2.55s/it]"
          }
        },
        "81905713ff354735aa9902e97018b06c": {
          "model_module": "@jupyter-widgets/base",
          "model_name": "LayoutModel",
          "model_module_version": "1.2.0",
          "state": {
            "_model_module": "@jupyter-widgets/base",
            "_model_module_version": "1.2.0",
            "_model_name": "LayoutModel",
            "_view_count": null,
            "_view_module": "@jupyter-widgets/base",
            "_view_module_version": "1.2.0",
            "_view_name": "LayoutView",
            "align_content": null,
            "align_items": null,
            "align_self": null,
            "border": null,
            "bottom": null,
            "display": null,
            "flex": null,
            "flex_flow": null,
            "grid_area": null,
            "grid_auto_columns": null,
            "grid_auto_flow": null,
            "grid_auto_rows": null,
            "grid_column": null,
            "grid_gap": null,
            "grid_row": null,
            "grid_template_areas": null,
            "grid_template_columns": null,
            "grid_template_rows": null,
            "height": null,
            "justify_content": null,
            "justify_items": null,
            "left": null,
            "margin": null,
            "max_height": null,
            "max_width": null,
            "min_height": null,
            "min_width": null,
            "object_fit": null,
            "object_position": null,
            "order": null,
            "overflow": null,
            "overflow_x": null,
            "overflow_y": null,
            "padding": null,
            "right": null,
            "top": null,
            "visibility": null,
            "width": null
          }
        },
        "cc912d398baf498e8126b34884900180": {
          "model_module": "@jupyter-widgets/base",
          "model_name": "LayoutModel",
          "model_module_version": "1.2.0",
          "state": {
            "_model_module": "@jupyter-widgets/base",
            "_model_module_version": "1.2.0",
            "_model_name": "LayoutModel",
            "_view_count": null,
            "_view_module": "@jupyter-widgets/base",
            "_view_module_version": "1.2.0",
            "_view_name": "LayoutView",
            "align_content": null,
            "align_items": null,
            "align_self": null,
            "border": null,
            "bottom": null,
            "display": null,
            "flex": null,
            "flex_flow": null,
            "grid_area": null,
            "grid_auto_columns": null,
            "grid_auto_flow": null,
            "grid_auto_rows": null,
            "grid_column": null,
            "grid_gap": null,
            "grid_row": null,
            "grid_template_areas": null,
            "grid_template_columns": null,
            "grid_template_rows": null,
            "height": null,
            "justify_content": null,
            "justify_items": null,
            "left": null,
            "margin": null,
            "max_height": null,
            "max_width": null,
            "min_height": null,
            "min_width": null,
            "object_fit": null,
            "object_position": null,
            "order": null,
            "overflow": null,
            "overflow_x": null,
            "overflow_y": null,
            "padding": null,
            "right": null,
            "top": null,
            "visibility": null,
            "width": null
          }
        },
        "baa5f9fe990247d39850879a45c9bb11": {
          "model_module": "@jupyter-widgets/controls",
          "model_name": "DescriptionStyleModel",
          "model_module_version": "1.5.0",
          "state": {
            "_model_module": "@jupyter-widgets/controls",
            "_model_module_version": "1.5.0",
            "_model_name": "DescriptionStyleModel",
            "_view_count": null,
            "_view_module": "@jupyter-widgets/base",
            "_view_module_version": "1.2.0",
            "_view_name": "StyleView",
            "description_width": ""
          }
        },
        "c3172e4af7464d409a3e94ec121e4159": {
          "model_module": "@jupyter-widgets/base",
          "model_name": "LayoutModel",
          "model_module_version": "1.2.0",
          "state": {
            "_model_module": "@jupyter-widgets/base",
            "_model_module_version": "1.2.0",
            "_model_name": "LayoutModel",
            "_view_count": null,
            "_view_module": "@jupyter-widgets/base",
            "_view_module_version": "1.2.0",
            "_view_name": "LayoutView",
            "align_content": null,
            "align_items": null,
            "align_self": null,
            "border": null,
            "bottom": null,
            "display": null,
            "flex": null,
            "flex_flow": null,
            "grid_area": null,
            "grid_auto_columns": null,
            "grid_auto_flow": null,
            "grid_auto_rows": null,
            "grid_column": null,
            "grid_gap": null,
            "grid_row": null,
            "grid_template_areas": null,
            "grid_template_columns": null,
            "grid_template_rows": null,
            "height": null,
            "justify_content": null,
            "justify_items": null,
            "left": null,
            "margin": null,
            "max_height": null,
            "max_width": null,
            "min_height": null,
            "min_width": null,
            "object_fit": null,
            "object_position": null,
            "order": null,
            "overflow": null,
            "overflow_x": null,
            "overflow_y": null,
            "padding": null,
            "right": null,
            "top": null,
            "visibility": null,
            "width": null
          }
        },
        "21e47ead6731448e92b09daf300768af": {
          "model_module": "@jupyter-widgets/controls",
          "model_name": "ProgressStyleModel",
          "model_module_version": "1.5.0",
          "state": {
            "_model_module": "@jupyter-widgets/controls",
            "_model_module_version": "1.5.0",
            "_model_name": "ProgressStyleModel",
            "_view_count": null,
            "_view_module": "@jupyter-widgets/base",
            "_view_module_version": "1.2.0",
            "_view_name": "StyleView",
            "bar_color": null,
            "description_width": ""
          }
        },
        "79c8ba35a40a435fb2215d301261195c": {
          "model_module": "@jupyter-widgets/base",
          "model_name": "LayoutModel",
          "model_module_version": "1.2.0",
          "state": {
            "_model_module": "@jupyter-widgets/base",
            "_model_module_version": "1.2.0",
            "_model_name": "LayoutModel",
            "_view_count": null,
            "_view_module": "@jupyter-widgets/base",
            "_view_module_version": "1.2.0",
            "_view_name": "LayoutView",
            "align_content": null,
            "align_items": null,
            "align_self": null,
            "border": null,
            "bottom": null,
            "display": null,
            "flex": null,
            "flex_flow": null,
            "grid_area": null,
            "grid_auto_columns": null,
            "grid_auto_flow": null,
            "grid_auto_rows": null,
            "grid_column": null,
            "grid_gap": null,
            "grid_row": null,
            "grid_template_areas": null,
            "grid_template_columns": null,
            "grid_template_rows": null,
            "height": null,
            "justify_content": null,
            "justify_items": null,
            "left": null,
            "margin": null,
            "max_height": null,
            "max_width": null,
            "min_height": null,
            "min_width": null,
            "object_fit": null,
            "object_position": null,
            "order": null,
            "overflow": null,
            "overflow_x": null,
            "overflow_y": null,
            "padding": null,
            "right": null,
            "top": null,
            "visibility": null,
            "width": null
          }
        },
        "2b5dcc43d8144ad8a69f70815dffba60": {
          "model_module": "@jupyter-widgets/controls",
          "model_name": "DescriptionStyleModel",
          "model_module_version": "1.5.0",
          "state": {
            "_model_module": "@jupyter-widgets/controls",
            "_model_module_version": "1.5.0",
            "_model_name": "DescriptionStyleModel",
            "_view_count": null,
            "_view_module": "@jupyter-widgets/base",
            "_view_module_version": "1.2.0",
            "_view_name": "StyleView",
            "description_width": ""
          }
        },
        "43dbc22b383c4f76ab160f8c9c335f74": {
          "model_module": "@jupyter-widgets/controls",
          "model_name": "HBoxModel",
          "model_module_version": "1.5.0",
          "state": {
            "_dom_classes": [],
            "_model_module": "@jupyter-widgets/controls",
            "_model_module_version": "1.5.0",
            "_model_name": "HBoxModel",
            "_view_count": null,
            "_view_module": "@jupyter-widgets/controls",
            "_view_module_version": "1.5.0",
            "_view_name": "HBoxView",
            "box_style": "",
            "children": [
              "IPY_MODEL_f90b315b9cba4518b37a89301351a3c2",
              "IPY_MODEL_fb9c124d19d14136afb1f82abb8cc651",
              "IPY_MODEL_3f7d467ffa294079a9e9f0dcad959151"
            ],
            "layout": "IPY_MODEL_a14d6c3d46a3436caec973017afbcf77"
          }
        },
        "f90b315b9cba4518b37a89301351a3c2": {
          "model_module": "@jupyter-widgets/controls",
          "model_name": "HTMLModel",
          "model_module_version": "1.5.0",
          "state": {
            "_dom_classes": [],
            "_model_module": "@jupyter-widgets/controls",
            "_model_module_version": "1.5.0",
            "_model_name": "HTMLModel",
            "_view_count": null,
            "_view_module": "@jupyter-widgets/controls",
            "_view_module_version": "1.5.0",
            "_view_name": "HTMLView",
            "description": "",
            "description_tooltip": null,
            "layout": "IPY_MODEL_4c942848e4f1488081f311a045dd60fc",
            "placeholder": "​",
            "style": "IPY_MODEL_9091d067fee84ca6a7fc5cd833d8bd6f",
            "value": "100%"
          }
        },
        "fb9c124d19d14136afb1f82abb8cc651": {
          "model_module": "@jupyter-widgets/controls",
          "model_name": "FloatProgressModel",
          "model_module_version": "1.5.0",
          "state": {
            "_dom_classes": [],
            "_model_module": "@jupyter-widgets/controls",
            "_model_module_version": "1.5.0",
            "_model_name": "FloatProgressModel",
            "_view_count": null,
            "_view_module": "@jupyter-widgets/controls",
            "_view_module_version": "1.5.0",
            "_view_name": "ProgressView",
            "bar_style": "success",
            "description": "",
            "description_tooltip": null,
            "layout": "IPY_MODEL_54f5f2539948415190c1f2c43833232d",
            "max": 250,
            "min": 0,
            "orientation": "horizontal",
            "style": "IPY_MODEL_feee1248cd1d4ef691ca78f597fed8d7",
            "value": 250
          }
        },
        "3f7d467ffa294079a9e9f0dcad959151": {
          "model_module": "@jupyter-widgets/controls",
          "model_name": "HTMLModel",
          "model_module_version": "1.5.0",
          "state": {
            "_dom_classes": [],
            "_model_module": "@jupyter-widgets/controls",
            "_model_module_version": "1.5.0",
            "_model_name": "HTMLModel",
            "_view_count": null,
            "_view_module": "@jupyter-widgets/controls",
            "_view_module_version": "1.5.0",
            "_view_name": "HTMLView",
            "description": "",
            "description_tooltip": null,
            "layout": "IPY_MODEL_564b907702424306aa3d45dbd73391e4",
            "placeholder": "​",
            "style": "IPY_MODEL_0b90a8d4e2af4d95adc3d6864d07a3e9",
            "value": " 250/250 [07:45&lt;00:00,  2.57s/it]"
          }
        },
        "a14d6c3d46a3436caec973017afbcf77": {
          "model_module": "@jupyter-widgets/base",
          "model_name": "LayoutModel",
          "model_module_version": "1.2.0",
          "state": {
            "_model_module": "@jupyter-widgets/base",
            "_model_module_version": "1.2.0",
            "_model_name": "LayoutModel",
            "_view_count": null,
            "_view_module": "@jupyter-widgets/base",
            "_view_module_version": "1.2.0",
            "_view_name": "LayoutView",
            "align_content": null,
            "align_items": null,
            "align_self": null,
            "border": null,
            "bottom": null,
            "display": null,
            "flex": null,
            "flex_flow": null,
            "grid_area": null,
            "grid_auto_columns": null,
            "grid_auto_flow": null,
            "grid_auto_rows": null,
            "grid_column": null,
            "grid_gap": null,
            "grid_row": null,
            "grid_template_areas": null,
            "grid_template_columns": null,
            "grid_template_rows": null,
            "height": null,
            "justify_content": null,
            "justify_items": null,
            "left": null,
            "margin": null,
            "max_height": null,
            "max_width": null,
            "min_height": null,
            "min_width": null,
            "object_fit": null,
            "object_position": null,
            "order": null,
            "overflow": null,
            "overflow_x": null,
            "overflow_y": null,
            "padding": null,
            "right": null,
            "top": null,
            "visibility": null,
            "width": null
          }
        },
        "4c942848e4f1488081f311a045dd60fc": {
          "model_module": "@jupyter-widgets/base",
          "model_name": "LayoutModel",
          "model_module_version": "1.2.0",
          "state": {
            "_model_module": "@jupyter-widgets/base",
            "_model_module_version": "1.2.0",
            "_model_name": "LayoutModel",
            "_view_count": null,
            "_view_module": "@jupyter-widgets/base",
            "_view_module_version": "1.2.0",
            "_view_name": "LayoutView",
            "align_content": null,
            "align_items": null,
            "align_self": null,
            "border": null,
            "bottom": null,
            "display": null,
            "flex": null,
            "flex_flow": null,
            "grid_area": null,
            "grid_auto_columns": null,
            "grid_auto_flow": null,
            "grid_auto_rows": null,
            "grid_column": null,
            "grid_gap": null,
            "grid_row": null,
            "grid_template_areas": null,
            "grid_template_columns": null,
            "grid_template_rows": null,
            "height": null,
            "justify_content": null,
            "justify_items": null,
            "left": null,
            "margin": null,
            "max_height": null,
            "max_width": null,
            "min_height": null,
            "min_width": null,
            "object_fit": null,
            "object_position": null,
            "order": null,
            "overflow": null,
            "overflow_x": null,
            "overflow_y": null,
            "padding": null,
            "right": null,
            "top": null,
            "visibility": null,
            "width": null
          }
        },
        "9091d067fee84ca6a7fc5cd833d8bd6f": {
          "model_module": "@jupyter-widgets/controls",
          "model_name": "DescriptionStyleModel",
          "model_module_version": "1.5.0",
          "state": {
            "_model_module": "@jupyter-widgets/controls",
            "_model_module_version": "1.5.0",
            "_model_name": "DescriptionStyleModel",
            "_view_count": null,
            "_view_module": "@jupyter-widgets/base",
            "_view_module_version": "1.2.0",
            "_view_name": "StyleView",
            "description_width": ""
          }
        },
        "54f5f2539948415190c1f2c43833232d": {
          "model_module": "@jupyter-widgets/base",
          "model_name": "LayoutModel",
          "model_module_version": "1.2.0",
          "state": {
            "_model_module": "@jupyter-widgets/base",
            "_model_module_version": "1.2.0",
            "_model_name": "LayoutModel",
            "_view_count": null,
            "_view_module": "@jupyter-widgets/base",
            "_view_module_version": "1.2.0",
            "_view_name": "LayoutView",
            "align_content": null,
            "align_items": null,
            "align_self": null,
            "border": null,
            "bottom": null,
            "display": null,
            "flex": null,
            "flex_flow": null,
            "grid_area": null,
            "grid_auto_columns": null,
            "grid_auto_flow": null,
            "grid_auto_rows": null,
            "grid_column": null,
            "grid_gap": null,
            "grid_row": null,
            "grid_template_areas": null,
            "grid_template_columns": null,
            "grid_template_rows": null,
            "height": null,
            "justify_content": null,
            "justify_items": null,
            "left": null,
            "margin": null,
            "max_height": null,
            "max_width": null,
            "min_height": null,
            "min_width": null,
            "object_fit": null,
            "object_position": null,
            "order": null,
            "overflow": null,
            "overflow_x": null,
            "overflow_y": null,
            "padding": null,
            "right": null,
            "top": null,
            "visibility": null,
            "width": null
          }
        },
        "feee1248cd1d4ef691ca78f597fed8d7": {
          "model_module": "@jupyter-widgets/controls",
          "model_name": "ProgressStyleModel",
          "model_module_version": "1.5.0",
          "state": {
            "_model_module": "@jupyter-widgets/controls",
            "_model_module_version": "1.5.0",
            "_model_name": "ProgressStyleModel",
            "_view_count": null,
            "_view_module": "@jupyter-widgets/base",
            "_view_module_version": "1.2.0",
            "_view_name": "StyleView",
            "bar_color": null,
            "description_width": ""
          }
        },
        "564b907702424306aa3d45dbd73391e4": {
          "model_module": "@jupyter-widgets/base",
          "model_name": "LayoutModel",
          "model_module_version": "1.2.0",
          "state": {
            "_model_module": "@jupyter-widgets/base",
            "_model_module_version": "1.2.0",
            "_model_name": "LayoutModel",
            "_view_count": null,
            "_view_module": "@jupyter-widgets/base",
            "_view_module_version": "1.2.0",
            "_view_name": "LayoutView",
            "align_content": null,
            "align_items": null,
            "align_self": null,
            "border": null,
            "bottom": null,
            "display": null,
            "flex": null,
            "flex_flow": null,
            "grid_area": null,
            "grid_auto_columns": null,
            "grid_auto_flow": null,
            "grid_auto_rows": null,
            "grid_column": null,
            "grid_gap": null,
            "grid_row": null,
            "grid_template_areas": null,
            "grid_template_columns": null,
            "grid_template_rows": null,
            "height": null,
            "justify_content": null,
            "justify_items": null,
            "left": null,
            "margin": null,
            "max_height": null,
            "max_width": null,
            "min_height": null,
            "min_width": null,
            "object_fit": null,
            "object_position": null,
            "order": null,
            "overflow": null,
            "overflow_x": null,
            "overflow_y": null,
            "padding": null,
            "right": null,
            "top": null,
            "visibility": null,
            "width": null
          }
        },
        "0b90a8d4e2af4d95adc3d6864d07a3e9": {
          "model_module": "@jupyter-widgets/controls",
          "model_name": "DescriptionStyleModel",
          "model_module_version": "1.5.0",
          "state": {
            "_model_module": "@jupyter-widgets/controls",
            "_model_module_version": "1.5.0",
            "_model_name": "DescriptionStyleModel",
            "_view_count": null,
            "_view_module": "@jupyter-widgets/base",
            "_view_module_version": "1.2.0",
            "_view_name": "StyleView",
            "description_width": ""
          }
        }
      }
    }
  },
  "nbformat": 4,
  "nbformat_minor": 0
}