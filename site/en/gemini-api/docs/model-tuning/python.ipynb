{
  "cells": [
    {
      "cell_type": "markdown",
      "metadata": {
        "id": "Tce3stUlHN0L"
      },
      "source": [
        "##### Copyright 2024 Google LLC."
      ]
    },
    {
      "cell_type": "code",
      "execution_count": 67,
      "metadata": {
        "cellView": "form",
        "id": "tuOe1ymfHZPu"
      },
      "outputs": [],
      "source": [
        "#@title Licensed under the Apache License, Version 2.0 (the \"License\");\n",
        "# you may not use this file except in compliance with the License.\n",
        "# You may obtain a copy of the License at\n",
        "#\n",
        "# https://www.apache.org/licenses/LICENSE-2.0\n",
        "#\n",
        "# Unless required by applicable law or agreed to in writing, software\n",
        "# distributed under the License is distributed on an \"AS IS\" BASIS,\n",
        "# WITHOUT WARRANTIES OR CONDITIONS OF ANY KIND, either express or implied.\n",
        "# See the License for the specific language governing permissions and\n",
        "# limitations under the License."
      ]
    },
    {
      "cell_type": "markdown",
      "metadata": {
        "id": "yeadDkMiISin"
      },
      "source": [
        "# Gemini API: Model tuning with Python"
      ]
    },
    {
      "cell_type": "markdown",
      "metadata": {
        "id": "lEXQ3OwKIa-O"
      },
      "source": [
        "<table class=\"tfo-notebook-buttons\" align=\"left\">\n",
        "  <td>\n",
        "    <a target=\"_blank\" href=\"https://ai.google.dev/gemini-api/docs/model-tuning/python\"><img src=\"https://ai.google.dev/static/site-assets/images/docs/notebook-site-button.png\" height=\"32\" width=\"32\" />View on ai.google.dev</a>\n",
        "  </td>\n",
        "    <td>\n",
        "    <a target=\"_blank\" href=\"https://colab.research.google.com/github/google/generative-ai-docs/blob/main/site/en/gemini-api/docs/model-tuning/python.ipynb\"><img src=\"https://www.tensorflow.org/images/colab_logo_32px.png\" />Run in Google Colab</a>\n",
        "  </td>\n",
        "  <td>\n",
        "    <a target=\"_blank\" href=\"https://github.com/google/generative-ai-docs/blob/main/site/en/gemini-api/docs/model-tuning/python.ipynb\"><img src=\"https://www.tensorflow.org/images/GitHub-Mark-32px.png\" />View source on GitHub</a>\n",
        "  </td>\n",
        "</table>"
      ]
    },
    {
      "cell_type": "markdown",
      "metadata": {
        "id": "Jp_CKyzxUqx6"
      },
      "source": [
        "In this notebook, you'll learn how to get started with the tuning service using the Python client library for the Gemini API. Here, you'll learn how to tune the text model behind the Gemini API's text generation service."
      ]
    },
    {
      "cell_type": "markdown",
      "metadata": {
        "id": "sOz_wyZAlCuQ"
      },
      "source": [
        "## Setup"
      ]
    },
    {
      "cell_type": "markdown",
      "metadata": {
        "id": "aHimx8NGMWDj"
      },
      "source": [
        "### Install the client library"
      ]
    },
    {
      "cell_type": "code",
      "execution_count": 68,
      "metadata": {
        "id": "cbcf72bcb56d"
      },
      "outputs": [],
      "source": [
        "!pip install -q google-generativeai"
      ]
    },
    {
      "cell_type": "markdown",
      "metadata": {
        "id": "jdIYSl2kN0cq"
      },
      "source": [
        "### Import libraries"
      ]
    },
    {
      "cell_type": "code",
      "execution_count": 69,
      "metadata": {
        "id": "8enrppafJPCX"
      },
      "outputs": [],
      "source": [
        "import google.generativeai as genai"
      ]
    },
    {
      "cell_type": "code",
      "execution_count": 70,
      "metadata": {
        "id": "lhqVUjH7ZKUi"
      },
      "outputs": [],
      "source": [
        "from google.colab import userdata\n",
        "genai.configure(api_key=userdata.get('GOOGLE_API_KEY'))"
      ]
    },
    {
      "cell_type": "code",
      "source": [
        "import google.generativeai as genai\n",
        "\n",
        "# List all available models\n",
        "models = genai.list_models()\n",
        "\n",
        "# Print model names and their supported methods\n",
        "for model in models:\n",
        "    print(f\"Model: {model.name}\")\n",
        "    print(f\"Supported Methods: {model.supported_generation_methods}\\n\")\n"
      ],
      "metadata": {
        "colab": {
          "base_uri": "https://localhost:8080/",
          "height": 1000
        },
        "id": "rNn9JDQ7UhkD",
        "outputId": "998365bd-57b9-4b81-d851-884c7b466d4b"
      },
      "execution_count": 71,
      "outputs": [
        {
          "output_type": "stream",
          "name": "stdout",
          "text": [
            "Model: models/chat-bison-001\n",
            "Supported Methods: ['generateMessage', 'countMessageTokens']\n",
            "\n",
            "Model: models/text-bison-001\n",
            "Supported Methods: ['generateText', 'countTextTokens', 'createTunedTextModel']\n",
            "\n",
            "Model: models/embedding-gecko-001\n",
            "Supported Methods: ['embedText', 'countTextTokens']\n",
            "\n",
            "Model: models/gemini-1.0-pro-vision-latest\n",
            "Supported Methods: ['generateContent', 'countTokens']\n",
            "\n",
            "Model: models/gemini-pro-vision\n",
            "Supported Methods: ['generateContent', 'countTokens']\n",
            "\n",
            "Model: models/gemini-1.5-pro-latest\n",
            "Supported Methods: ['generateContent', 'countTokens']\n",
            "\n",
            "Model: models/gemini-1.5-pro-001\n",
            "Supported Methods: ['generateContent', 'countTokens', 'createCachedContent']\n",
            "\n",
            "Model: models/gemini-1.5-pro-002\n",
            "Supported Methods: ['generateContent', 'countTokens', 'createCachedContent']\n",
            "\n",
            "Model: models/gemini-1.5-pro\n",
            "Supported Methods: ['generateContent', 'countTokens']\n",
            "\n",
            "Model: models/gemini-1.5-flash-latest\n",
            "Supported Methods: ['generateContent', 'countTokens']\n",
            "\n",
            "Model: models/gemini-1.5-flash-001\n",
            "Supported Methods: ['generateContent', 'countTokens', 'createCachedContent']\n",
            "\n",
            "Model: models/gemini-1.5-flash-001-tuning\n",
            "Supported Methods: ['generateContent', 'countTokens', 'createTunedModel']\n",
            "\n",
            "Model: models/gemini-1.5-flash\n",
            "Supported Methods: ['generateContent', 'countTokens']\n",
            "\n",
            "Model: models/gemini-1.5-flash-002\n",
            "Supported Methods: ['generateContent', 'countTokens', 'createCachedContent']\n",
            "\n",
            "Model: models/gemini-1.5-flash-8b\n",
            "Supported Methods: ['createCachedContent', 'generateContent', 'countTokens']\n",
            "\n",
            "Model: models/gemini-1.5-flash-8b-001\n",
            "Supported Methods: ['createCachedContent', 'generateContent', 'countTokens']\n",
            "\n",
            "Model: models/gemini-1.5-flash-8b-latest\n",
            "Supported Methods: ['createCachedContent', 'generateContent', 'countTokens']\n",
            "\n",
            "Model: models/gemini-1.5-flash-8b-exp-0827\n",
            "Supported Methods: ['generateContent', 'countTokens']\n",
            "\n",
            "Model: models/gemini-1.5-flash-8b-exp-0924\n",
            "Supported Methods: ['generateContent', 'countTokens']\n",
            "\n",
            "Model: models/gemini-2.0-flash-exp\n",
            "Supported Methods: ['generateContent', 'countTokens', 'bidiGenerateContent']\n",
            "\n",
            "Model: models/gemini-2.0-flash\n",
            "Supported Methods: ['generateContent', 'countTokens']\n",
            "\n",
            "Model: models/gemini-2.0-flash-001\n",
            "Supported Methods: ['generateContent', 'countTokens']\n",
            "\n",
            "Model: models/gemini-2.0-flash-lite-001\n",
            "Supported Methods: ['generateContent', 'countTokens']\n",
            "\n",
            "Model: models/gemini-2.0-flash-lite\n",
            "Supported Methods: ['generateContent', 'countTokens']\n",
            "\n",
            "Model: models/gemini-2.0-flash-lite-preview-02-05\n",
            "Supported Methods: ['generateContent', 'countTokens']\n",
            "\n",
            "Model: models/gemini-2.0-flash-lite-preview\n",
            "Supported Methods: ['generateContent', 'countTokens']\n",
            "\n",
            "Model: models/gemini-2.0-pro-exp\n",
            "Supported Methods: ['generateContent', 'countTokens']\n",
            "\n",
            "Model: models/gemini-2.0-pro-exp-02-05\n",
            "Supported Methods: ['generateContent', 'countTokens']\n",
            "\n",
            "Model: models/gemini-exp-1206\n",
            "Supported Methods: ['generateContent', 'countTokens']\n",
            "\n",
            "Model: models/gemini-2.0-flash-thinking-exp-01-21\n",
            "Supported Methods: ['generateContent', 'countTokens']\n",
            "\n",
            "Model: models/gemini-2.0-flash-thinking-exp\n",
            "Supported Methods: ['generateContent', 'countTokens']\n",
            "\n",
            "Model: models/gemini-2.0-flash-thinking-exp-1219\n",
            "Supported Methods: ['generateContent', 'countTokens']\n",
            "\n",
            "Model: models/learnlm-1.5-pro-experimental\n",
            "Supported Methods: ['generateContent', 'countTokens']\n",
            "\n",
            "Model: models/embedding-001\n",
            "Supported Methods: ['embedContent']\n",
            "\n",
            "Model: models/text-embedding-004\n",
            "Supported Methods: ['embedContent']\n",
            "\n",
            "Model: models/aqa\n",
            "Supported Methods: ['generateAnswer']\n",
            "\n",
            "Model: models/imagen-3.0-generate-002\n",
            "Supported Methods: ['predict']\n",
            "\n"
          ]
        }
      ]
    },
    {
      "cell_type": "code",
      "source": [
        "import google.generativeai as genai\n",
        "\n",
        "# List all available models\n",
        "models = genai.list_models()\n",
        "\n",
        "# Filter models that support fine-tuning\n",
        "fine_tunable_models = [\n",
        "    m for m in models if \"createTunedModel\" in m.supported_generation_methods\n",
        "]\n",
        "\n",
        "# Check if any fine-tunable models exist\n",
        "if fine_tunable_models:\n",
        "    print(\"Fine-Tunable Models:\")\n",
        "    for model in fine_tunable_models:\n",
        "        print(f\"{model.name} - {model.display_name}\")\n",
        "else:\n",
        "    print(\"No fine-tunable models available.\")\n"
      ],
      "metadata": {
        "id": "U_4uCbg0WZlP",
        "outputId": "448d17a9-d9f8-4da1-a944-6f6e4c3b3fa8",
        "colab": {
          "base_uri": "https://localhost:8080/",
          "height": 54
        }
      },
      "execution_count": 72,
      "outputs": [
        {
          "output_type": "stream",
          "name": "stdout",
          "text": [
            "Fine-Tunable Models:\n",
            "models/gemini-1.5-flash-001-tuning - Gemini 1.5 Flash 001 Tuning\n"
          ]
        }
      ]
    },
    {
      "cell_type": "markdown",
      "metadata": {
        "id": "P-MYZECwlRCq"
      },
      "source": [
        "\n",
        "\n",
        "```\n",
        "# This is formatted as code\n",
        "```\n",
        "\n",
        "You can check your existing tuned models with the `genai.list_tuned_model` method."
      ]
    },
    {
      "cell_type": "code",
      "execution_count": null,
      "metadata": {
        "id": "XyWzoYFxU4r6"
      },
      "outputs": [],
      "source": [
        "for i, m in zip(range(10), genai.list_tuned_models()):\n",
        "  print(m.name)"
      ]
    },
    {
      "cell_type": "markdown",
      "metadata": {
        "id": "BhkXRzciv3Dp"
      },
      "source": [
        "## Create tuned model"
      ]
    },
    {
      "cell_type": "markdown",
      "metadata": {
        "id": "OO8VZYAinLWc"
      },
      "source": [
        "To create a tuned model, you need to pass your dataset to the model in the `genai.create_tuned_model` method. You can do this be directly defining the input and output values in the call or importing from a file into a dataframe to pass to the method.\n",
        "\n",
        "For this example, you will tune a model to generate the next number in the sequence. For example, if the input is `1`, the model should output `2`. If the input is `one hundred`, the output should be `one hundred one`."
      ]
    },
    {
      "cell_type": "code",
      "execution_count": null,
      "metadata": {
        "id": "w-EBSe9wTbLB"
      },
      "outputs": [],
      "source": [
        "base_model = [\n",
        "    m for m in genai.list_models()\n",
        "    if \"createTunedModel\" in m.supported_generation_methods and\n",
        "    \"flash\" in m.name][0]\n",
        "base_model"
      ]
    },
    {
      "cell_type": "code",
      "execution_count": null,
      "metadata": {
        "id": "baHjHh1oTTTC"
      },
      "outputs": [],
      "source": [
        "import random\n",
        "\n",
        "name = f'generate-num-{random.randint(0,10000)}'\n",
        "operation = genai.create_tuned_model(\n",
        "    # You can use a tuned model here too. Set `source_model=\"tunedModels/...\"`\n",
        "    source_model=base_model.name,\n",
        "    training_data=[\n",
        "        {\n",
        "             'text_input': '1',\n",
        "             'output': '2',\n",
        "        },{\n",
        "             'text_input': '3',\n",
        "             'output': '4',\n",
        "        },{\n",
        "             'text_input': '-3',\n",
        "             'output': '-2',\n",
        "        },{\n",
        "             'text_input': 'twenty two',\n",
        "             'output': 'twenty three',\n",
        "        },{\n",
        "             'text_input': 'two hundred',\n",
        "             'output': 'two hundred one',\n",
        "        },{\n",
        "             'text_input': 'ninety nine',\n",
        "             'output': 'one hundred',\n",
        "        },{\n",
        "             'text_input': '8',\n",
        "             'output': '9',\n",
        "        },{\n",
        "             'text_input': '-98',\n",
        "             'output': '-97',\n",
        "        },{\n",
        "             'text_input': '1,000',\n",
        "             'output': '1,001',\n",
        "        },{\n",
        "             'text_input': '10,100,000',\n",
        "             'output': '10,100,001',\n",
        "        },{\n",
        "             'text_input': 'thirteen',\n",
        "             'output': 'fourteen',\n",
        "        },{\n",
        "             'text_input': 'eighty',\n",
        "             'output': 'eighty one',\n",
        "        },{\n",
        "             'text_input': 'one',\n",
        "             'output': 'two',\n",
        "        },{\n",
        "             'text_input': 'three',\n",
        "             'output': 'four',\n",
        "        },{\n",
        "             'text_input': 'seven',\n",
        "             'output': 'eight',\n",
        "        }\n",
        "    ],\n",
        "    id = name,\n",
        "    epoch_count = 100,\n",
        "    batch_size=4,\n",
        "    learning_rate=0.001,\n",
        ")"
      ]
    },
    {
      "cell_type": "markdown",
      "metadata": {
        "id": "-As7ayWDK1w8"
      },
      "source": [
        "Your tuned model is immediately added to the list of tuned models, but its status is set to \"creating\" while the model is tuned."
      ]
    },
    {
      "cell_type": "code",
      "execution_count": null,
      "metadata": {
        "id": "su64KgY4Uztj"
      },
      "outputs": [],
      "source": [
        "model = genai.get_tuned_model(f'tunedModels/{name}')\n",
        "\n",
        "model"
      ]
    },
    {
      "cell_type": "code",
      "execution_count": null,
      "metadata": {
        "id": "EUodUwZkKPi-"
      },
      "outputs": [],
      "source": [
        "model.state"
      ]
    },
    {
      "cell_type": "markdown",
      "metadata": {
        "id": "Pi8X5vkQv-3_"
      },
      "source": [
        "### Check tuning progress"
      ]
    },
    {
      "cell_type": "markdown",
      "metadata": {
        "id": "tWI-vAh4LJIz"
      },
      "source": [
        "Use `metadata` to check the state:"
      ]
    },
    {
      "cell_type": "code",
      "execution_count": null,
      "metadata": {
        "id": "g08vqtxYLMxT"
      },
      "outputs": [],
      "source": [
        "operation.metadata"
      ]
    },
    {
      "cell_type": "markdown",
      "metadata": {
        "id": "3lQ6gSMgK-kz"
      },
      "source": [
        "Wait for the training to finish using `operation.result()`, or `operation.wait_bar()`"
      ]
    },
    {
      "cell_type": "code",
      "execution_count": null,
      "metadata": {
        "id": "SOUowIv1HgSE"
      },
      "outputs": [],
      "source": [
        "import time\n",
        "\n",
        "for status in operation.wait_bar():\n",
        "  time.sleep(30)"
      ]
    },
    {
      "cell_type": "markdown",
      "metadata": {
        "id": "4cg868HzqOx5"
      },
      "source": [
        "You can cancel your tuning job any time using the `cancel()` method. Uncomment the line below and run the code cell to cancel your job before it finishes."
      ]
    },
    {
      "cell_type": "code",
      "execution_count": null,
      "metadata": {
        "id": "oQuJ70_hqJi9"
      },
      "outputs": [],
      "source": [
        "# operation.cancel()"
      ]
    },
    {
      "cell_type": "markdown",
      "metadata": {
        "id": "lqiL0TWDqAPn"
      },
      "source": [
        "Once the tuning is complete, you can view the loss curve from the tuning results. The [loss curve](https://ai.google.dev/gemini-api/docs/model-tuning#recommended_configurations) shows how much the model's predictions deviate from the ideal outputs."
      ]
    },
    {
      "cell_type": "code",
      "execution_count": null,
      "metadata": {
        "id": "bIiG57xWLhP7"
      },
      "outputs": [],
      "source": [
        "import pandas as pd\n",
        "import seaborn as sns\n",
        "\n",
        "model = operation.result()\n",
        "\n",
        "snapshots = pd.DataFrame(model.tuning_task.snapshots)\n",
        "\n",
        "sns.lineplot(data=snapshots, x = 'epoch', y='mean_loss')\n"
      ]
    },
    {
      "cell_type": "markdown",
      "metadata": {
        "id": "rkoQTXb1vSBC"
      },
      "source": [
        "## Evaluate your model\n",
        "\n",
        "You can use the `genai.generate_content` method and specify the name of your model to test your model performance."
      ]
    },
    {
      "cell_type": "code",
      "execution_count": null,
      "metadata": {
        "id": "zO0YcuSyxydZ"
      },
      "outputs": [],
      "source": [
        "model = genai.GenerativeModel(model_name=f'tunedModels/{name}')"
      ]
    },
    {
      "cell_type": "code",
      "execution_count": null,
      "metadata": {
        "id": "UwGrrj6hS_x2"
      },
      "outputs": [],
      "source": [
        "result = model.generate_content('55')\n",
        "result.text"
      ]
    },
    {
      "cell_type": "code",
      "execution_count": null,
      "metadata": {
        "id": "YSNB2zjTx5SZ"
      },
      "outputs": [],
      "source": [
        "result = model.generate_content('123455')\n",
        "result.text"
      ]
    },
    {
      "cell_type": "code",
      "execution_count": null,
      "metadata": {
        "id": "Y2YVO-m0Ut9H"
      },
      "outputs": [],
      "source": [
        "result = model.generate_content('four')\n",
        "result.text"
      ]
    },
    {
      "cell_type": "code",
      "execution_count": null,
      "metadata": {
        "id": "h2MkTR0uTb6U"
      },
      "outputs": [],
      "source": [
        "result = model.generate_content('quatre') # French 4\n",
        "result.text                               # French 5 is \"cinq\""
      ]
    },
    {
      "cell_type": "code",
      "execution_count": null,
      "metadata": {
        "id": "OruCW1zETsZw"
      },
      "outputs": [],
      "source": [
        "result = model.generate_content('III')    # Roman numeral 3\n",
        "result.text                               # Roman numeral 4 is IV"
      ]
    },
    {
      "cell_type": "code",
      "execution_count": null,
      "metadata": {
        "id": "thDdSuUDUJOx"
      },
      "outputs": [],
      "source": [
        "result = model.generate_content('七')  # Japanese 7\n",
        "result.text                            # Japanese 8 is 八!"
      ]
    },
    {
      "cell_type": "code",
      "source": [
        "result = model.generate_content('9')\n",
        "result.text"
      ],
      "metadata": {
        "id": "zJ954GJbTSxW"
      },
      "execution_count": null,
      "outputs": []
    },
    {
      "cell_type": "code",
      "source": [
        "result = model.generate_content('Angka setelah 1232')\n",
        "result.text"
      ],
      "metadata": {
        "id": "LvLYWewVTV1P"
      },
      "execution_count": null,
      "outputs": []
    },
    {
      "cell_type": "markdown",
      "metadata": {
        "id": "HpIA1IFevQQR"
      },
      "source": [
        "It really seems to have picked up the task despite the limited examples, but \"next\" is a simple concept, see the [tuning guide](https://ai.google.dev/gemini-api/docs/model-tuning) for more guidance on improving performance."
      ]
    },
    {
      "cell_type": "markdown",
      "metadata": {
        "id": "nmuQCbTYwIOx"
      },
      "source": [
        "## Update the description\n",
        "\n",
        "You can update the description of your tuned model any time using the `genai.update_tuned_model` method."
      ]
    },
    {
      "cell_type": "code",
      "execution_count": null,
      "metadata": {
        "id": "9gAVuXT_wG3x"
      },
      "outputs": [],
      "source": [
        "genai.update_tuned_model(f'tunedModels/{name}', {\"description\":\"This is my model.\"});"
      ]
    },
    {
      "cell_type": "code",
      "execution_count": null,
      "metadata": {
        "id": "d-c3YerBxVYs"
      },
      "outputs": [],
      "source": [
        "model = genai.get_tuned_model(f'tunedModels/{name}')\n",
        "\n",
        "model.description"
      ]
    },
    {
      "cell_type": "markdown",
      "metadata": {
        "id": "i_TpwvBB4bQ7"
      },
      "source": [
        "## Delete the model\n",
        "\n",
        "You can clean up your tuned model list by deleting models you no longer need. Use the `genai.delete_tuned_model` method to delete a model. If you canceled any tuning jobs, you may want to delete those as their performance may be unpredictable."
      ]
    },
    {
      "cell_type": "code",
      "execution_count": null,
      "metadata": {
        "id": "cepfaUCvVGCo"
      },
      "outputs": [],
      "source": [
        "#genai.delete_tuned_model(f'tunedModels/{name}')"
      ]
    },
    {
      "cell_type": "markdown",
      "metadata": {
        "id": "ljEssIshYDEr"
      },
      "source": [
        "The model no longer exists:"
      ]
    },
    {
      "cell_type": "code",
      "execution_count": null,
      "metadata": {
        "id": "kN_bkut_4ayL"
      },
      "outputs": [],
      "source": [
        "\n",
        "#try:\n",
        " # m = genai.get_tuned_model(f'tunedModels/{name}')\n",
        "  #print(m)\n",
        "#except Exception as e:\n",
        " # print(f\"{type(e)}: {e}\")"
      ]
    },
    {
      "cell_type": "markdown",
      "source": [
        "### Fine Tuning Model Indonesia"
      ],
      "metadata": {
        "id": "-0ARjs-SiIjx"
      }
    },
    {
      "cell_type": "code",
      "source": [
        "import random\n",
        "\n",
        "nameIDTelemarketing = f'generate-num-{random.randint(0,10000)}'\n",
        "operationIDTelemarketing = genai.create_tuned_model(\n",
        "    # You can use a tuned model here too. Set `source_model=\"tunedModels/...\"`\n",
        "    source_model=base_model.name,\n",
        "    training_data=[\n",
        "        {\n",
        "             'text_input': 'Saya ingin membeli paket internet 10GB yang ada saat ini, berapa harganya?',\n",
        "             'output': 'Paket Internet yang tersedia saat ini adalah paket internet Murah Meriah 10GB dengan harga Rp50.000. Anda bisa membelinya melalui aplikasi MyTelkomsel atau dial *363#.',\n",
        "        },{\n",
        "             'text_input': 'Bagaimana cara cek sisa kuota internet saya?',\n",
        "             'output': 'Anda bisa mengecek sisa kuota dengan dial *888# atau melalui aplikasi MyTelkomsel.',\n",
        "        },{\n",
        "             'text_input': 'Saya mengalami masalah dengan jaringan, sinyal sering hilang. Apa yang harus saya lakukan?',\n",
        "             'output': 'Mohon coba restart ponsel Anda dan pastikan berada di area dengan jangkauan sinyal yang baik. Jika masalah berlanjut, hubungi layanan pelanggan 188.',\n",
        "        },{\n",
        "             'text_input': 'Apakah ada promo paket nelpon untuk bulan ini?',\n",
        "             'output': 'Ya, kami memiliki promo paket nelpon murah ke semua operator. Silakan cek di aplikasi MyTelkomsel atau dial *888#.',\n",
        "        },{\n",
        "             'text_input': 'Saya ingin mengganti kartu SIM saya ke eSIM, bagaimana caranya?',\n",
        "             'output': 'Anda bisa mengganti kartu SIM ke eSIM dengan mengunjungi GraPARI terdekat dan membawa kartu identitas Anda.',\n",
        "        },{\n",
        "             'text_input': 'Kenapa saya tidak bisa mengakses internet meskipun memiliki kuota?',\n",
        "             'output': 'Pastikan pengaturan APN Anda sudah benar, lalu coba restart perangkat Anda. Jika masih bermasalah, hubungi layanan pelanggan.',\n",
        "        },{\n",
        "             'text_input': 'Berapa tarif SMS ke luar negeri dari Telkomsel?',\n",
        "             'output': 'Tarif SMS ke luar negeri bervariasi tergantung negara tujuan. Anda bisa mengecek daftar tarif lengkap di website resmi Telkomsel.',\n",
        "        },{\n",
        "             'text_input': 'Saya ingin berbagi kuota internet ke teman, bagaimana caranya?',\n",
        "             'output': 'Anda bisa menggunakan fitur GIFT di aplikasi MyTelkomsel atau melalui dial 5002#.',\n",
        "        },{\n",
        "             'text_input': 'Apakah bisa transfer pulsa ke operator lain?',\n",
        "             'output': 'Saat ini transfer pulsa hanya bisa dilakukan ke sesama pengguna Telkomsel.',\n",
        "        },{\n",
        "             'text_input': 'Bagaimana cara berhenti langganan paket internet saya?',\n",
        "             'output': 'Anda bisa berhenti langganan paket dengan mengirim SMS: ketik STOP(spasi)NAMA_PAKET kirim ke 3636 atau melalui aplikasi MyTelkomsel.',\n",
        "        }\n",
        "    ],\n",
        "    id = nameIDTelemarketing,\n",
        "    epoch_count = 100,\n",
        "    batch_size=4,\n",
        "    learning_rate=0.001,\n",
        ")\n",
        "print(f\"Fine-tuning model `{nameIDTelemarketing}` is in progress...\")\n"
      ],
      "metadata": {
        "id": "l7fHjkxaR9sa"
      },
      "execution_count": null,
      "outputs": []
    },
    {
      "cell_type": "code",
      "source": [
        "modelIDTelemarketing = genai.get_tuned_model(f'tunedModelsIDTelemarketing/{nameIDTelemarketing}')\n",
        "\n",
        "modelIDTelemarketing"
      ],
      "metadata": {
        "id": "bclhXmK5SWqF"
      },
      "execution_count": null,
      "outputs": []
    },
    {
      "cell_type": "code",
      "source": [
        "modelIDTelemarketing.state"
      ],
      "metadata": {
        "id": "HtIncqVYSfpV"
      },
      "execution_count": null,
      "outputs": []
    },
    {
      "cell_type": "code",
      "source": [
        "operationIDTelemarketing.metadata"
      ],
      "metadata": {
        "id": "jqJoJ-t0Sqbv"
      },
      "execution_count": null,
      "outputs": []
    },
    {
      "cell_type": "code",
      "source": [
        "import time\n",
        "\n",
        "for status in operationIDTelemarketing.wait_bar():\n",
        "  time.sleep(30)"
      ],
      "metadata": {
        "id": "t8jmJ8F8SywE"
      },
      "execution_count": null,
      "outputs": []
    },
    {
      "cell_type": "code",
      "source": [
        "import pandas as pd\n",
        "import seaborn as sns\n",
        "\n",
        "modelIDTelemarketing = operationIDTelemarketing.result()\n",
        "\n",
        "snapshots = pd.DataFrame(modelIDTelemarketing.tuning_task.snapshots)\n",
        "\n",
        "sns.lineplot(data=snapshots, x = 'epoch', y='mean_loss')\n"
      ],
      "metadata": {
        "id": "g0FI4h6gS2vW"
      },
      "execution_count": null,
      "outputs": []
    },
    {
      "cell_type": "code",
      "source": [
        "modelIDTelemarketing = genai.GenerativeModel(model_name=f'tunedModelsIDTelemarketing/{nameIDTelemarketing}')"
      ],
      "metadata": {
        "id": "nMfngJlPTAUs"
      },
      "execution_count": null,
      "outputs": []
    },
    {
      "cell_type": "code",
      "source": [
        "result = modelIDTelemarketing.generate_content('apa rekomendasi paket internet yang bisa saya beli?')\n",
        "result.text"
      ],
      "metadata": {
        "id": "fOmtcCteTKHB"
      },
      "execution_count": null,
      "outputs": []
    },
    {
      "cell_type": "markdown",
      "source": [
        "###Fine Tuning Model LLM AI Jawa"
      ],
      "metadata": {
        "id": "0VBMYaPkhzGm"
      }
    },
    {
      "cell_type": "code",
      "source": [
        "import random\n",
        "import google.generativeai as genai\n",
        "\n",
        "# Nama model fine-tuned\n",
        "nameJawaTelemarketing = f'generate-num-{random.randint(0,10000)}'\n",
        "\n",
        "# Membuat model fine-tuned dengan dataset Bahasa Jawa\n",
        "operationJawaTelemarketing = genai.create_tuned_model(\n",
        "    source_model=\"models/gemini-1.5-flash-001-tuning\",  # Model yang mendukung fine-tuning\n",
        "    training_data=[\n",
        "        {\n",
        "             'text_input': 'Aku pengin tuku paket internet 10GB, pira regane?',\n",
        "             'output': 'Paket 10GB kasedhiya regane Rp50.000. Panjenengan saget tumbas liwat aplikasi MyTelkomsel utawi dial *363#.',\n",
        "        },{\n",
        "             'text_input': 'Kados pundi cara mriksa sisa kuota internet kula?',\n",
        "             'output': 'Panjenengan saget mriksa kuota kanthi dial *888# utawi liwat aplikasi MyTelkomsel.',\n",
        "        },{\n",
        "             'text_input': 'Kula nemui masalah jaringan, sinyal sering ilang. Kados pundi solusine?',\n",
        "             'output': 'Coba restart HP panjenengan lan priksa menawi wonten ing wilayah kanthi sinyal ingkang sae. Menawi tetep bermasalah, mangga hubungi 188.',\n",
        "        },{\n",
        "             'text_input': 'Nopo wonten promo paket nelpon wulan menika?',\n",
        "             'output': 'Inggih, kita gadhah promo nelpon murah. Mangga cek ing aplikasi MyTelkomsel utawi dial *888#.',\n",
        "        },{\n",
        "             'text_input': 'Kados pundi cara ganti kartu SIM dados eSIM?',\n",
        "             'output': 'Panjenengan saget mendhet eSIM ing GraPARI kanthi nyedhiyakake kartu identitas.',\n",
        "        },{\n",
        "             'text_input': 'Napa kulo boten saget akses internet sanajan tasih wonten kuota?',\n",
        "             'output': 'Priksa setelan APN panjenengan lan coba restart piranti panjenengan. Menawi tasih bermasalah, mangga hubungi layanan pelanggan.',\n",
        "        },{\n",
        "             'text_input': 'Pinten tarif SMS dhateng luar negeri?',\n",
        "             'output': 'Tarif SMS gumantung negara tujuan. Panjenengan saget priksa tarif ing situs resmi Telkomsel.',\n",
        "        },{\n",
        "             'text_input': 'Kados pundi cara mindhah pulsa dhateng kanca?',\n",
        "             'output': 'Panjenengan saged nggunakake fitur GIFT ing aplikasi MyTelkomsel utawi dial 5002#.',\n",
        "        },{\n",
        "             'text_input': 'Napa aku boten saged transfer pulsa dhateng operator sanes?',\n",
        "             'output': 'Transfer pulsa mung saget kangge pangguna Telkomsel kemawon.',\n",
        "        },{\n",
        "             'text_input': 'Kados pundi cara mandheg langganan paket internet?',\n",
        "             'output': 'Panjenengan saged mandheg langganan paket kanthi ngirim SMS: ketik STOP(spasi)NAMA_PAKET lan kirim menyang 3636.',\n",
        "        }\n",
        "    ],\n",
        "    id=nameJawaTelemarketing,\n",
        "    epoch_count=100,\n",
        "    batch_size=4,\n",
        "    learning_rate=0.001,\n",
        ")\n",
        "\n",
        "print(f\"Fine-tuning model `{nameJawaTelemarketing}` is in progress...\")\n"
      ],
      "metadata": {
        "id": "q-MiHmFvhXCm"
      },
      "execution_count": null,
      "outputs": []
    },
    {
      "cell_type": "code",
      "source": [
        "modelJawaTelemarketing = genai.get_tuned_model(f'tunedModelsJawaTelemarketing/{nameIDTelemarketing}')\n",
        "\n",
        "modelJawaTelemarketing"
      ],
      "metadata": {
        "id": "Z21zV1_mhbY4"
      },
      "execution_count": null,
      "outputs": []
    },
    {
      "cell_type": "code",
      "source": [
        "modelJawaTelemarketing.state"
      ],
      "metadata": {
        "id": "WSJ2kyTMhiZ8"
      },
      "execution_count": null,
      "outputs": []
    },
    {
      "cell_type": "code",
      "source": [
        "operationJawaTelemarketing.metadata"
      ],
      "metadata": {
        "id": "v-1cr5oPi7uu"
      },
      "execution_count": null,
      "outputs": []
    },
    {
      "cell_type": "code",
      "source": [
        "import time\n",
        "\n",
        "for status in operationJawaTelemarketing.wait_bar():\n",
        "  time.sleep(30)"
      ],
      "metadata": {
        "id": "haP40tn7i70-"
      },
      "execution_count": null,
      "outputs": []
    },
    {
      "cell_type": "code",
      "source": [
        "import pandas as pd\n",
        "import seaborn as sns\n",
        "\n",
        "modelJawaTelemarketing = operationJawaTelemarketing.result()\n",
        "\n",
        "snapshots = pd.DataFrame(modelJawaTelemarketing.tuning_task.snapshots)\n",
        "\n",
        "sns.lineplot(data=snapshots, x = 'epoch', y='mean_loss')\n"
      ],
      "metadata": {
        "id": "pqa85NSpi77G"
      },
      "execution_count": null,
      "outputs": []
    },
    {
      "cell_type": "code",
      "source": [
        "modelJawaTelemarketing = genai.GenerativeModel(model_name=f'tunedModelsJawaTelemarketing/{nameJawaTelemarketing}')"
      ],
      "metadata": {
        "id": "ayTMSgROi8BO"
      },
      "execution_count": null,
      "outputs": []
    },
    {
      "cell_type": "code",
      "source": [
        "result = modelJawaTelemarketing.generate_content('apa rekomendasi paket internet yang bisa saya beli?')\n",
        "result.text"
      ],
      "metadata": {
        "id": "vt9-nKIQi8G2"
      },
      "execution_count": null,
      "outputs": []
    },
    {
      "cell_type": "code",
      "source": [
        "import random\n",
        "import google.generativeai as genai\n",
        "\n",
        "# Nama model fine-tuned\n",
        "nameSundaTelemarketing = f'generate-num-{random.randint(0,10000)}'\n",
        "\n",
        "# Membuat model fine-tuned dengan dataset Bahasa Sunda\n",
        "operationSundaTelemarketing = genai.create_tuned_model(\n",
        "    source_model=\"models/gemini-1.5-flash-001-tuning\",  # Model yang mendukung fine-tuning\n",
        "    training_data=[\n",
        "        {\n",
        "             'text_input': 'Abdi hoyong mésér paket internet 10GB, sabaraha hargana?',\n",
        "             'output': 'Paket 10GB sayogi kalayan harga Rp50.000. Anjeun tiasa mésérna liwat aplikasi MyTelkomsel atanapi dial *363#.',\n",
        "        },{\n",
        "             'text_input': 'Kumaha cara mariksa sésa kuota internet abdi?',\n",
        "             'output': 'Anjeun tiasa mariksa kuota ku dial *888# atanapi nganggo aplikasi MyTelkomsel.',\n",
        "        },{\n",
        "             'text_input': 'Abdi ngagaduhan masalah jaringan, sinyal sok leungit. Kumaha solusina?',\n",
        "             'output': 'Coba restart HP sareng pastikeun anjeun aya di wewengkon anu sinyalna kuat. Upami masih bermasalah, telepon 188.',\n",
        "        },{\n",
        "             'text_input': 'Aya promo paket nelepon bulan ieu?',\n",
        "             'output': 'Leres, aya promo nelepon murah. Mangga cek di aplikasi MyTelkomsel atanapi dial *888#.',\n",
        "        },{\n",
        "             'text_input': 'Kumaha cara ngaganti kartu SIM ka eSIM?',\n",
        "             'output': 'Anjeun tiasa ngarobih ka eSIM di GraPARI ku nyayogikeun kartu identitas anjeun.',\n",
        "        },{\n",
        "             'text_input': 'Naha abdi henteu tiasa ngaksés internet sanajan gaduh kuota?',\n",
        "             'output': 'Pastikeun setelan APN leres, teras coba restart alat anjeun. Upami masih bermasalah, telepon layanan palanggan.',\n",
        "        },{\n",
        "             'text_input': 'Sabaraha tarif SMS ka luar negeri?',\n",
        "             'output': 'Tarif SMS gumantung kana nagara tujuan. Anjeun tiasa mariksa tarifna dina halaman wéb resmi Telkomsel.',\n",
        "        },{\n",
        "             'text_input': 'Kumaha cara ngirim pulsa ka rerencangan?',\n",
        "             'output': 'Anjeun tiasa nganggo fitur GIFT dina aplikasi MyTelkomsel atanapi ku dial 5002#.',\n",
        "        },{\n",
        "             'text_input': 'Naha tiasa transfer pulsa ka operator sanés?',\n",
        "             'output': 'Pikeun ayeuna, transfer pulsa ngan ukur tiasa ka sesama Telkomsel.',\n",
        "        },{\n",
        "             'text_input': 'Kumaha cara ngeureunkeun langganan paket internet?',\n",
        "             'output': 'Anjeun tiasa ngeureunkeun langganan ku SMS: ketik STOP(spasi)NAMA_PAKET kirim ka 3636 atanapi via aplikasi MyTelkomsel.',\n",
        "        }\n",
        "    ],\n",
        "    id=nameSundaTelemarketing,\n",
        "    epoch_count=100,\n",
        "    batch_size=4,\n",
        "    learning_rate=0.001,\n",
        ")\n",
        "\n",
        "print(f\"Fine-tuning model `{nameSundaTelemarketing}` is in progress...\")\n"
      ],
      "metadata": {
        "id": "oE-740ALk9XI"
      },
      "execution_count": null,
      "outputs": []
    },
    {
      "cell_type": "code",
      "source": [
        "modelSundaTelemarketing = genai.get_tuned_model(f'tunedModelsSundaTelemarketing/{nameSundaTelemarketing}')\n"
      ],
      "metadata": {
        "id": "O7G4bLiklNBq"
      },
      "execution_count": null,
      "outputs": []
    },
    {
      "cell_type": "code",
      "source": [
        "modelSundaTelemarketing"
      ],
      "metadata": {
        "id": "csRI1c4llNFp"
      },
      "execution_count": null,
      "outputs": []
    },
    {
      "cell_type": "code",
      "source": [
        "modelSundaTelemarketing.state"
      ],
      "metadata": {
        "id": "tnpGP5x1lNLh"
      },
      "execution_count": null,
      "outputs": []
    },
    {
      "cell_type": "code",
      "source": [
        "operationSundaTelemarketing.metadata"
      ],
      "metadata": {
        "id": "9w1OCWuylNR6"
      },
      "execution_count": null,
      "outputs": []
    },
    {
      "cell_type": "code",
      "source": [
        "import time\n",
        "\n",
        "# Menunggu proses fine-tuning selesai\n",
        "for status in operationSundaTelemarketing.wait_bar():\n",
        "    time.sleep(30)\n",
        "\n"
      ],
      "metadata": {
        "id": "u5KYEBTolNXp"
      },
      "execution_count": null,
      "outputs": []
    },
    {
      "cell_type": "code",
      "source": [
        "import pandas as pd\n",
        "import seaborn as sns\n",
        "# Mendapatkan hasil fine-tuning\n",
        "modelSundaTelemarketing = operationSundaTelemarketing.result()\n",
        "# Menyimpan snapshot hasil pelatihan\n",
        "snapshots = pd.DataFrame(modelSundaTelemarketing.tuning_task.snapshots)\n",
        "\n",
        "# Membuat grafik loss selama pelatihan\n",
        "sns.lineplot(data=snapshots, x='epoch', y='mean_loss')"
      ],
      "metadata": {
        "id": "MUPVWnN3lNeC"
      },
      "execution_count": null,
      "outputs": []
    },
    {
      "cell_type": "code",
      "source": [
        "# Menggunakan model yang telah di-fine-tune\n",
        "modelSundaTelemarketing = genai.GenerativeModel(model_name=f'tunedModelsSundaTelemarketing/{nameSundaTelemarketing}')"
      ],
      "metadata": {
        "id": "9qfjjagulNka"
      },
      "execution_count": null,
      "outputs": []
    },
    {
      "cell_type": "code",
      "source": [
        "# Menguji model dengan input dalam Bahasa Sunda\n",
        "result = modelSundaTelemarketing.generate_content('Naon rekomendasi paket internet anu tiasa abdi mésér?')\n",
        "result.text"
      ],
      "metadata": {
        "id": "HtaVwkmAleQT"
      },
      "execution_count": null,
      "outputs": []
    }
  ],
  "metadata": {
    "colab": {
      "name": "python.ipynb",
      "toc_visible": true,
      "provenance": []
    },
    "kernelspec": {
      "display_name": "Python 3",
      "name": "python3"
    }
  },
  "nbformat": 4,
  "nbformat_minor": 0
}